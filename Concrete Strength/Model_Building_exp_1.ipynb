{
 "cells": [
  {
   "cell_type": "code",
   "execution_count": 1,
   "id": "98904408",
   "metadata": {
    "_cell_guid": "b1076dfc-b9ad-4769-8c92-a6c4dae69d19",
    "_uuid": "8f2839f25d086af736a60e9eeb907d3b93b6e0e5",
    "execution": {
     "iopub.execute_input": "2023-03-11T18:33:48.504020Z",
     "iopub.status.busy": "2023-03-11T18:33:48.503580Z",
     "iopub.status.idle": "2023-03-11T18:33:48.532254Z",
     "shell.execute_reply": "2023-03-11T18:33:48.531070Z"
    },
    "papermill": {
     "duration": 0.05325,
     "end_time": "2023-03-11T18:33:48.535733",
     "exception": false,
     "start_time": "2023-03-11T18:33:48.482483",
     "status": "completed"
    },
    "tags": []
   },
   "outputs": [
    {
     "name": "stdout",
     "output_type": "stream",
     "text": [
      "/kaggle/input/predict-concrete-strength/ConcreteStrengthData.csv\n",
      "/kaggle/input/playground-series-s3e9/sample_submission.csv\n",
      "/kaggle/input/playground-series-s3e9/train.csv\n",
      "/kaggle/input/playground-series-s3e9/test.csv\n",
      "/kaggle/input/model-img/model.png\n",
      "/kaggle/input/strength/eightcolumns.csv\n",
      "/kaggle/input/strength/fivecolumns.csv\n"
     ]
    }
   ],
   "source": [
    "# This Python 3 environment comes with many helpful analytics libraries installed\n",
    "# It is defined by the kaggle/python Docker image: https://github.com/kaggle/docker-python\n",
    "# For example, here's several helpful packages to load\n",
    "\n",
    "import numpy as np # linear algebra\n",
    "import pandas as pd # data processing, CSV file I/O (e.g. pd.read_csv)\n",
    "\n",
    "# Input data files are available in the read-only \"../input/\" directory\n",
    "# For example, running this (by clicking run or pressing Shift+Enter) will list all files under the input directory\n",
    "\n",
    "import os\n",
    "for dirname, _, filenames in os.walk('/kaggle/input'):\n",
    "    for filename in filenames:\n",
    "        print(os.path.join(dirname, filename))\n",
    "\n",
    "# You can write up to 20GB to the current directory (/kaggle/working/) that gets preserved as output when you create a version using \"Save & Run All\" \n",
    "# You can also write temporary files to /kaggle/temp/, but they won't be saved outside of the current session"
   ]
  },
  {
   "cell_type": "markdown",
   "id": "184ffa3c",
   "metadata": {
    "papermill": {
     "duration": 0.018063,
     "end_time": "2023-03-11T18:33:48.573983",
     "exception": false,
     "start_time": "2023-03-11T18:33:48.555920",
     "status": "completed"
    },
    "tags": []
   },
   "source": [
    "# 1. Importing Libraries"
   ]
  },
  {
   "cell_type": "code",
   "execution_count": 2,
   "id": "d11edd8f",
   "metadata": {
    "execution": {
     "iopub.execute_input": "2023-03-11T18:33:48.612890Z",
     "iopub.status.busy": "2023-03-11T18:33:48.612150Z",
     "iopub.status.idle": "2023-03-11T18:33:53.743086Z",
     "shell.execute_reply": "2023-03-11T18:33:53.741654Z"
    },
    "papermill": {
     "duration": 5.153373,
     "end_time": "2023-03-11T18:33:53.746253",
     "exception": false,
     "start_time": "2023-03-11T18:33:48.592880",
     "status": "completed"
    },
    "tags": []
   },
   "outputs": [
    {
     "data": {
      "text/html": [
       "<style type='text/css'>\n",
       ".datatable table.frame { margin-bottom: 0; }\n",
       ".datatable table.frame thead { border-bottom: none; }\n",
       ".datatable table.frame tr.coltypes td {  color: #FFFFFF;  line-height: 6px;  padding: 0 0.5em;}\n",
       ".datatable .bool    { background: #DDDD99; }\n",
       ".datatable .object  { background: #565656; }\n",
       ".datatable .int     { background: #5D9E5D; }\n",
       ".datatable .float   { background: #4040CC; }\n",
       ".datatable .str     { background: #CC4040; }\n",
       ".datatable .time    { background: #40CC40; }\n",
       ".datatable .row_index {  background: var(--jp-border-color3);  border-right: 1px solid var(--jp-border-color0);  color: var(--jp-ui-font-color3);  font-size: 9px;}\n",
       ".datatable .frame tbody td { text-align: left; }\n",
       ".datatable .frame tr.coltypes .row_index {  background: var(--jp-border-color0);}\n",
       ".datatable th:nth-child(2) { padding-left: 12px; }\n",
       ".datatable .hellipsis {  color: var(--jp-cell-editor-border-color);}\n",
       ".datatable .vellipsis {  background: var(--jp-layout-color0);  color: var(--jp-cell-editor-border-color);}\n",
       ".datatable .na {  color: var(--jp-cell-editor-border-color);  font-size: 80%;}\n",
       ".datatable .sp {  opacity: 0.25;}\n",
       ".datatable .footer { font-size: 9px; }\n",
       ".datatable .frame_dimensions {  background: var(--jp-border-color3);  border-top: 1px solid var(--jp-border-color0);  color: var(--jp-ui-font-color3);  display: inline-block;  opacity: 0.6;  padding: 1px 10px 1px 5px;}\n",
       "</style>\n"
      ],
      "text/plain": [
       "<IPython.core.display.HTML object>"
      ]
     },
     "metadata": {},
     "output_type": "display_data"
    }
   ],
   "source": [
    "import seaborn as sns\n",
    "import matplotlib.pyplot as plt \n",
    "from scipy import stats\n",
    "from statsmodels.stats.outliers_influence import variance_inflation_factor\n",
    "from sklearn.feature_selection import mutual_info_regression\n",
    "from sklearn.ensemble import GradientBoostingRegressor\n",
    "from xgboost import XGBRegressor\n",
    "from catboost import CatBoostRegressor\n",
    "from lightgbm import LGBMRegressor\n",
    "from sklearn.metrics import mean_squared_error\n",
    "from sklearn.model_selection import KFold \n",
    "# from PIL import Image\n",
    "\n",
    "from bayes_opt import BayesianOptimization\n",
    "\n",
    "import optuna\n",
    "from sklearn.datasets import load_breast_cancer\n",
    "# from sklearn.model_selection import train_test_split\n",
    "from catboost import CatBoostRegressor\n",
    "from sklearn.metrics import mean_squared_error\n",
    "# from sklearn.model_selection import StratifiedKFold"
   ]
  },
  {
   "cell_type": "markdown",
   "id": "91599493",
   "metadata": {
    "papermill": {
     "duration": 0.017514,
     "end_time": "2023-03-11T18:33:53.782129",
     "exception": false,
     "start_time": "2023-03-11T18:33:53.764615",
     "status": "completed"
    },
    "tags": []
   },
   "source": [
    "# 2. Read Data"
   ]
  },
  {
   "cell_type": "code",
   "execution_count": 3,
   "id": "af80189b",
   "metadata": {
    "execution": {
     "iopub.execute_input": "2023-03-11T18:33:53.819461Z",
     "iopub.status.busy": "2023-03-11T18:33:53.818969Z",
     "iopub.status.idle": "2023-03-11T18:33:53.882703Z",
     "shell.execute_reply": "2023-03-11T18:33:53.881113Z"
    },
    "papermill": {
     "duration": 0.08581,
     "end_time": "2023-03-11T18:33:53.885785",
     "exception": false,
     "start_time": "2023-03-11T18:33:53.799975",
     "status": "completed"
    },
    "tags": []
   },
   "outputs": [],
   "source": [
    "train = pd.read_csv('/kaggle/input/playground-series-s3e9/train.csv')\n",
    "train = train.drop('id' ,axis = 1)\n",
    "test = pd.read_csv('/kaggle/input/playground-series-s3e9/test.csv')\n",
    "test = test.drop('id' ,axis = 1)"
   ]
  },
  {
   "cell_type": "markdown",
   "id": "cdc218af",
   "metadata": {
    "papermill": {
     "duration": 0.016737,
     "end_time": "2023-03-11T18:33:53.921965",
     "exception": false,
     "start_time": "2023-03-11T18:33:53.905228",
     "status": "completed"
    },
    "tags": []
   },
   "source": [
    "# 5. Descriptive Statistics"
   ]
  },
  {
   "cell_type": "code",
   "execution_count": 4,
   "id": "f5a22ea0",
   "metadata": {
    "execution": {
     "iopub.execute_input": "2023-03-11T18:33:53.959338Z",
     "iopub.status.busy": "2023-03-11T18:33:53.958900Z",
     "iopub.status.idle": "2023-03-11T18:33:54.104523Z",
     "shell.execute_reply": "2023-03-11T18:33:54.103245Z"
    },
    "papermill": {
     "duration": 0.168235,
     "end_time": "2023-03-11T18:33:54.107309",
     "exception": false,
     "start_time": "2023-03-11T18:33:53.939074",
     "status": "completed"
    },
    "tags": []
   },
   "outputs": [
    {
     "data": {
      "text/html": [
       "<style type=\"text/css\">\n",
       "#T_a6bc9_row0_col0, #T_a6bc9_row1_col0, #T_a6bc9_row1_col3, #T_a6bc9_row1_col4, #T_a6bc9_row1_col5, #T_a6bc9_row2_col0, #T_a6bc9_row2_col3, #T_a6bc9_row2_col4, #T_a6bc9_row2_col5, #T_a6bc9_row3_col0, #T_a6bc9_row4_col0, #T_a6bc9_row4_col1, #T_a6bc9_row4_col2, #T_a6bc9_row4_col3, #T_a6bc9_row4_col4, #T_a6bc9_row4_col5, #T_a6bc9_row4_col6, #T_a6bc9_row4_col7, #T_a6bc9_row5_col0, #T_a6bc9_row6_col0, #T_a6bc9_row7_col0, #T_a6bc9_row7_col3, #T_a6bc9_row8_col0, #T_a6bc9_row8_col3 {\n",
       "  background-color: #fff7fb;\n",
       "  color: #000000;\n",
       "}\n",
       "#T_a6bc9_row0_col1, #T_a6bc9_row7_col7 {\n",
       "  background-color: #c0c9e2;\n",
       "  color: #000000;\n",
       "}\n",
       "#T_a6bc9_row0_col2, #T_a6bc9_row5_col1, #T_a6bc9_row5_col3, #T_a6bc9_row5_col4, #T_a6bc9_row5_col5, #T_a6bc9_row5_col6, #T_a6bc9_row5_col7 {\n",
       "  background-color: #023858;\n",
       "  color: #f1f1f1;\n",
       "}\n",
       "#T_a6bc9_row0_col3, #T_a6bc9_row3_col2 {\n",
       "  background-color: #ece7f2;\n",
       "  color: #000000;\n",
       "}\n",
       "#T_a6bc9_row0_col4 {\n",
       "  background-color: #d5d5e8;\n",
       "  color: #000000;\n",
       "}\n",
       "#T_a6bc9_row0_col5 {\n",
       "  background-color: #bfc9e1;\n",
       "  color: #000000;\n",
       "}\n",
       "#T_a6bc9_row0_col6 {\n",
       "  background-color: #adc1dd;\n",
       "  color: #000000;\n",
       "}\n",
       "#T_a6bc9_row0_col7 {\n",
       "  background-color: #86b0d3;\n",
       "  color: #000000;\n",
       "}\n",
       "#T_a6bc9_row1_col1 {\n",
       "  background-color: #f7f0f7;\n",
       "  color: #000000;\n",
       "}\n",
       "#T_a6bc9_row1_col2 {\n",
       "  background-color: #056ba7;\n",
       "  color: #f1f1f1;\n",
       "}\n",
       "#T_a6bc9_row1_col6 {\n",
       "  background-color: #eee9f3;\n",
       "  color: #000000;\n",
       "}\n",
       "#T_a6bc9_row1_col7 {\n",
       "  background-color: #c1cae2;\n",
       "  color: #000000;\n",
       "}\n",
       "#T_a6bc9_row2_col1, #T_a6bc9_row7_col5 {\n",
       "  background-color: #fbf3f9;\n",
       "  color: #000000;\n",
       "}\n",
       "#T_a6bc9_row2_col2 {\n",
       "  background-color: #78abd0;\n",
       "  color: #f1f1f1;\n",
       "}\n",
       "#T_a6bc9_row2_col6 {\n",
       "  background-color: #f5eef6;\n",
       "  color: #000000;\n",
       "}\n",
       "#T_a6bc9_row2_col7, #T_a6bc9_row3_col3 {\n",
       "  background-color: #e7e3f0;\n",
       "  color: #000000;\n",
       "}\n",
       "#T_a6bc9_row3_col1 {\n",
       "  background-color: #e0dded;\n",
       "  color: #000000;\n",
       "}\n",
       "#T_a6bc9_row3_col4 {\n",
       "  background-color: #dfddec;\n",
       "  color: #000000;\n",
       "}\n",
       "#T_a6bc9_row3_col5, #T_a6bc9_row3_col7 {\n",
       "  background-color: #dddbec;\n",
       "  color: #000000;\n",
       "}\n",
       "#T_a6bc9_row3_col6 {\n",
       "  background-color: #e0deed;\n",
       "  color: #000000;\n",
       "}\n",
       "#T_a6bc9_row5_col2 {\n",
       "  background-color: #1278b4;\n",
       "  color: #f1f1f1;\n",
       "}\n",
       "#T_a6bc9_row6_col1 {\n",
       "  background-color: #056ba9;\n",
       "  color: #f1f1f1;\n",
       "}\n",
       "#T_a6bc9_row6_col2 {\n",
       "  background-color: #0c74b2;\n",
       "  color: #f1f1f1;\n",
       "}\n",
       "#T_a6bc9_row6_col3 {\n",
       "  background-color: #0872b1;\n",
       "  color: #f1f1f1;\n",
       "}\n",
       "#T_a6bc9_row6_col4, #T_a6bc9_row6_col6 {\n",
       "  background-color: #056aa6;\n",
       "  color: #f1f1f1;\n",
       "}\n",
       "#T_a6bc9_row6_col5 {\n",
       "  background-color: #0567a2;\n",
       "  color: #f1f1f1;\n",
       "}\n",
       "#T_a6bc9_row6_col7 {\n",
       "  background-color: #045c90;\n",
       "  color: #f1f1f1;\n",
       "}\n",
       "#T_a6bc9_row7_col1, #T_a6bc9_row7_col6, #T_a6bc9_row8_col7 {\n",
       "  background-color: #f8f1f8;\n",
       "  color: #000000;\n",
       "}\n",
       "#T_a6bc9_row7_col2 {\n",
       "  background-color: #2f8bbe;\n",
       "  color: #f1f1f1;\n",
       "}\n",
       "#T_a6bc9_row7_col4 {\n",
       "  background-color: #fef6fb;\n",
       "  color: #000000;\n",
       "}\n",
       "#T_a6bc9_row8_col1, #T_a6bc9_row8_col5 {\n",
       "  background-color: #faf3f9;\n",
       "  color: #000000;\n",
       "}\n",
       "#T_a6bc9_row8_col2 {\n",
       "  background-color: #efe9f3;\n",
       "  color: #000000;\n",
       "}\n",
       "#T_a6bc9_row8_col4 {\n",
       "  background-color: #fbf4f9;\n",
       "  color: #000000;\n",
       "}\n",
       "#T_a6bc9_row8_col6 {\n",
       "  background-color: #faf2f8;\n",
       "  color: #000000;\n",
       "}\n",
       "</style>\n",
       "<table id=\"T_a6bc9_\">\n",
       "  <thead>\n",
       "    <tr>\n",
       "      <th class=\"blank level0\" >&nbsp;</th>\n",
       "      <th class=\"col_heading level0 col0\" >count</th>\n",
       "      <th class=\"col_heading level0 col1\" >mean</th>\n",
       "      <th class=\"col_heading level0 col2\" >std</th>\n",
       "      <th class=\"col_heading level0 col3\" >min</th>\n",
       "      <th class=\"col_heading level0 col4\" >25%</th>\n",
       "      <th class=\"col_heading level0 col5\" >50%</th>\n",
       "      <th class=\"col_heading level0 col6\" >75%</th>\n",
       "      <th class=\"col_heading level0 col7\" >max</th>\n",
       "    </tr>\n",
       "  </thead>\n",
       "  <tbody>\n",
       "    <tr>\n",
       "      <th id=\"T_a6bc9_level0_row0\" class=\"row_heading level0 row0\" >CementComponent</th>\n",
       "      <td id=\"T_a6bc9_row0_col0\" class=\"data row0 col0\" >5407.000000</td>\n",
       "      <td id=\"T_a6bc9_row0_col1\" class=\"data row0 col1\" >299.168189</td>\n",
       "      <td id=\"T_a6bc9_row0_col2\" class=\"data row0 col2\" >105.537682</td>\n",
       "      <td id=\"T_a6bc9_row0_col3\" class=\"data row0 col3\" >102.000000</td>\n",
       "      <td id=\"T_a6bc9_row0_col4\" class=\"data row0 col4\" >213.700000</td>\n",
       "      <td id=\"T_a6bc9_row0_col5\" class=\"data row0 col5\" >297.200000</td>\n",
       "      <td id=\"T_a6bc9_row0_col6\" class=\"data row0 col6\" >375.000000</td>\n",
       "      <td id=\"T_a6bc9_row0_col7\" class=\"data row0 col7\" >540.000000</td>\n",
       "    </tr>\n",
       "    <tr>\n",
       "      <th id=\"T_a6bc9_level0_row1\" class=\"row_heading level0 row1\" >BlastFurnaceSlag</th>\n",
       "      <td id=\"T_a6bc9_row1_col0\" class=\"data row1 col0\" >5407.000000</td>\n",
       "      <td id=\"T_a6bc9_row1_col1\" class=\"data row1 col1\" >58.610579</td>\n",
       "      <td id=\"T_a6bc9_row1_col2\" class=\"data row1 col2\" >83.417801</td>\n",
       "      <td id=\"T_a6bc9_row1_col3\" class=\"data row1 col3\" >0.000000</td>\n",
       "      <td id=\"T_a6bc9_row1_col4\" class=\"data row1 col4\" >0.000000</td>\n",
       "      <td id=\"T_a6bc9_row1_col5\" class=\"data row1 col5\" >0.000000</td>\n",
       "      <td id=\"T_a6bc9_row1_col6\" class=\"data row1 col6\" >122.600000</td>\n",
       "      <td id=\"T_a6bc9_row1_col7\" class=\"data row1 col7\" >359.400000</td>\n",
       "    </tr>\n",
       "    <tr>\n",
       "      <th id=\"T_a6bc9_level0_row2\" class=\"row_heading level0 row2\" >FlyAshComponent</th>\n",
       "      <td id=\"T_a6bc9_row2_col0\" class=\"data row2 col0\" >5407.000000</td>\n",
       "      <td id=\"T_a6bc9_row2_col1\" class=\"data row2 col1\" >31.872795</td>\n",
       "      <td id=\"T_a6bc9_row2_col2\" class=\"data row2 col2\" >54.605003</td>\n",
       "      <td id=\"T_a6bc9_row2_col3\" class=\"data row2 col3\" >0.000000</td>\n",
       "      <td id=\"T_a6bc9_row2_col4\" class=\"data row2 col4\" >0.000000</td>\n",
       "      <td id=\"T_a6bc9_row2_col5\" class=\"data row2 col5\" >0.000000</td>\n",
       "      <td id=\"T_a6bc9_row2_col6\" class=\"data row2 col6\" >79.000000</td>\n",
       "      <td id=\"T_a6bc9_row2_col7\" class=\"data row2 col7\" >200.100000</td>\n",
       "    </tr>\n",
       "    <tr>\n",
       "      <th id=\"T_a6bc9_level0_row3\" class=\"row_heading level0 row3\" >WaterComponent</th>\n",
       "      <td id=\"T_a6bc9_row3_col0\" class=\"data row3 col0\" >5407.000000</td>\n",
       "      <td id=\"T_a6bc9_row3_col1\" class=\"data row3 col1\" >185.076235</td>\n",
       "      <td id=\"T_a6bc9_row3_col2\" class=\"data row3 col2\" >18.517583</td>\n",
       "      <td id=\"T_a6bc9_row3_col3\" class=\"data row3 col3\" >121.800000</td>\n",
       "      <td id=\"T_a6bc9_row3_col4\" class=\"data row3 col4\" >175.100000</td>\n",
       "      <td id=\"T_a6bc9_row3_col5\" class=\"data row3 col5\" >187.400000</td>\n",
       "      <td id=\"T_a6bc9_row3_col6\" class=\"data row3 col6\" >192.000000</td>\n",
       "      <td id=\"T_a6bc9_row3_col7\" class=\"data row3 col7\" >247.000000</td>\n",
       "    </tr>\n",
       "    <tr>\n",
       "      <th id=\"T_a6bc9_level0_row4\" class=\"row_heading level0 row4\" >SuperplasticizerComponent</th>\n",
       "      <td id=\"T_a6bc9_row4_col0\" class=\"data row4 col0\" >5407.000000</td>\n",
       "      <td id=\"T_a6bc9_row4_col1\" class=\"data row4 col1\" >4.108441</td>\n",
       "      <td id=\"T_a6bc9_row4_col2\" class=\"data row4 col2\" >5.692296</td>\n",
       "      <td id=\"T_a6bc9_row4_col3\" class=\"data row4 col3\" >0.000000</td>\n",
       "      <td id=\"T_a6bc9_row4_col4\" class=\"data row4 col4\" >0.000000</td>\n",
       "      <td id=\"T_a6bc9_row4_col5\" class=\"data row4 col5\" >0.000000</td>\n",
       "      <td id=\"T_a6bc9_row4_col6\" class=\"data row4 col6\" >8.050000</td>\n",
       "      <td id=\"T_a6bc9_row4_col7\" class=\"data row4 col7\" >32.200000</td>\n",
       "    </tr>\n",
       "    <tr>\n",
       "      <th id=\"T_a6bc9_level0_row5\" class=\"row_heading level0 row5\" >CoarseAggregateComponent</th>\n",
       "      <td id=\"T_a6bc9_row5_col0\" class=\"data row5 col0\" >5407.000000</td>\n",
       "      <td id=\"T_a6bc9_row5_col1\" class=\"data row5 col1\" >992.000718</td>\n",
       "      <td id=\"T_a6bc9_row5_col2\" class=\"data row5 col2\" >77.148010</td>\n",
       "      <td id=\"T_a6bc9_row5_col3\" class=\"data row5 col3\" >801.000000</td>\n",
       "      <td id=\"T_a6bc9_row5_col4\" class=\"data row5 col4\" >938.200000</td>\n",
       "      <td id=\"T_a6bc9_row5_col5\" class=\"data row5 col5\" >978.000000</td>\n",
       "      <td id=\"T_a6bc9_row5_col6\" class=\"data row5 col6\" >1047.000000</td>\n",
       "      <td id=\"T_a6bc9_row5_col7\" class=\"data row5 col7\" >1145.000000</td>\n",
       "    </tr>\n",
       "    <tr>\n",
       "      <th id=\"T_a6bc9_level0_row6\" class=\"row_heading level0 row6\" >FineAggregateComponent</th>\n",
       "      <td id=\"T_a6bc9_row6_col0\" class=\"data row6 col0\" >5407.000000</td>\n",
       "      <td id=\"T_a6bc9_row6_col1\" class=\"data row6 col1\" >771.219974</td>\n",
       "      <td id=\"T_a6bc9_row6_col2\" class=\"data row6 col2\" >78.725253</td>\n",
       "      <td id=\"T_a6bc9_row6_col3\" class=\"data row6 col3\" >594.000000</td>\n",
       "      <td id=\"T_a6bc9_row6_col4\" class=\"data row6 col4\" >734.300000</td>\n",
       "      <td id=\"T_a6bc9_row6_col5\" class=\"data row6 col5\" >781.200000</td>\n",
       "      <td id=\"T_a6bc9_row6_col6\" class=\"data row6 col6\" >821.000000</td>\n",
       "      <td id=\"T_a6bc9_row6_col7\" class=\"data row6 col7\" >992.600000</td>\n",
       "    </tr>\n",
       "    <tr>\n",
       "      <th id=\"T_a6bc9_level0_row7\" class=\"row_heading level0 row7\" >AgeInDays</th>\n",
       "      <td id=\"T_a6bc9_row7_col0\" class=\"data row7 col0\" >5407.000000</td>\n",
       "      <td id=\"T_a6bc9_row7_col1\" class=\"data row7 col1\" >51.751618</td>\n",
       "      <td id=\"T_a6bc9_row7_col2\" class=\"data row7 col2\" >70.006975</td>\n",
       "      <td id=\"T_a6bc9_row7_col3\" class=\"data row7 col3\" >1.000000</td>\n",
       "      <td id=\"T_a6bc9_row7_col4\" class=\"data row7 col4\" >7.000000</td>\n",
       "      <td id=\"T_a6bc9_row7_col5\" class=\"data row7 col5\" >28.000000</td>\n",
       "      <td id=\"T_a6bc9_row7_col6\" class=\"data row7 col6\" >56.000000</td>\n",
       "      <td id=\"T_a6bc9_row7_col7\" class=\"data row7 col7\" >365.000000</td>\n",
       "    </tr>\n",
       "    <tr>\n",
       "      <th id=\"T_a6bc9_level0_row8\" class=\"row_heading level0 row8\" >Strength</th>\n",
       "      <td id=\"T_a6bc9_row8_col0\" class=\"data row8 col0\" >5407.000000</td>\n",
       "      <td id=\"T_a6bc9_row8_col1\" class=\"data row8 col1\" >35.452071</td>\n",
       "      <td id=\"T_a6bc9_row8_col2\" class=\"data row8 col2\" >16.401896</td>\n",
       "      <td id=\"T_a6bc9_row8_col3\" class=\"data row8 col3\" >2.330000</td>\n",
       "      <td id=\"T_a6bc9_row8_col4\" class=\"data row8 col4\" >23.640000</td>\n",
       "      <td id=\"T_a6bc9_row8_col5\" class=\"data row8 col5\" >33.950000</td>\n",
       "      <td id=\"T_a6bc9_row8_col6\" class=\"data row8 col6\" >45.850000</td>\n",
       "      <td id=\"T_a6bc9_row8_col7\" class=\"data row8 col7\" >82.600000</td>\n",
       "    </tr>\n",
       "  </tbody>\n",
       "</table>\n"
      ],
      "text/plain": [
       "<pandas.io.formats.style.Styler at 0x7f2133c6be50>"
      ]
     },
     "execution_count": 4,
     "metadata": {},
     "output_type": "execute_result"
    }
   ],
   "source": [
    "train.describe().T.style.background_gradient()"
   ]
  },
  {
   "cell_type": "markdown",
   "id": "b9fdf6ff",
   "metadata": {
    "papermill": {
     "duration": 0.018,
     "end_time": "2023-03-11T18:33:54.143166",
     "exception": false,
     "start_time": "2023-03-11T18:33:54.125166",
     "status": "completed"
    },
    "tags": []
   },
   "source": [
    "# 6. Correlation Matrix"
   ]
  },
  {
   "cell_type": "code",
   "execution_count": 5,
   "id": "26e22343",
   "metadata": {
    "execution": {
     "iopub.execute_input": "2023-03-11T18:33:54.180946Z",
     "iopub.status.busy": "2023-03-11T18:33:54.180471Z",
     "iopub.status.idle": "2023-03-11T18:33:54.565646Z",
     "shell.execute_reply": "2023-03-11T18:33:54.564232Z"
    },
    "papermill": {
     "duration": 0.407826,
     "end_time": "2023-03-11T18:33:54.568594",
     "exception": false,
     "start_time": "2023-03-11T18:33:54.160768",
     "status": "completed"
    },
    "tags": []
   },
   "outputs": [
    {
     "data": {
      "text/plain": [
       "<AxesSubplot:>"
      ]
     },
     "execution_count": 5,
     "metadata": {},
     "output_type": "execute_result"
    },
    {
     "data": {
      "image/png": "[encoded data removed]",
      "text/plain": [
       "<Figure size 1500x100 with 2 Axes>"
      ]
     },
     "metadata": {},
     "output_type": "display_data"
    }
   ],
   "source": [
    "# Pearson Corrleation Matrix\n",
    "%matplotlib inline\n",
    "plt.figure(figsize = (15,1))\n",
    "pea = train.corr(method='pearson').tail(1)\n",
    "sns.heatmap( pea ,annot=True)"
   ]
  },
  {
   "cell_type": "code",
   "execution_count": 6,
   "id": "2c589298",
   "metadata": {
    "execution": {
     "iopub.execute_input": "2023-03-11T18:33:54.610939Z",
     "iopub.status.busy": "2023-03-11T18:33:54.609920Z",
     "iopub.status.idle": "2023-03-11T18:33:55.011856Z",
     "shell.execute_reply": "2023-03-11T18:33:55.010429Z"
    },
    "papermill": {
     "duration": 0.427038,
     "end_time": "2023-03-11T18:33:55.014774",
     "exception": false,
     "start_time": "2023-03-11T18:33:54.587736",
     "status": "completed"
    },
    "tags": []
   },
   "outputs": [
    {
     "data": {
      "text/plain": [
       "<AxesSubplot:>"
      ]
     },
     "execution_count": 6,
     "metadata": {},
     "output_type": "execute_result"
    },
    {
     "data": {
      "image/png": "[encoded data removed]",
      "text/plain": [
       "<Figure size 1500x100 with 2 Axes>"
      ]
     },
     "metadata": {},
     "output_type": "display_data"
    }
   ],
   "source": [
    "# kendall Corrleation Matrix\n",
    "%matplotlib inline\n",
    "plt.figure(figsize = (15,1))\n",
    "ken = train.corr(method='kendall').tail(1)\n",
    "sns.heatmap( ken ,annot=True)"
   ]
  },
  {
   "cell_type": "markdown",
   "id": "4515395c",
   "metadata": {
    "papermill": {
     "duration": 0.019146,
     "end_time": "2023-03-11T18:33:55.054719",
     "exception": false,
     "start_time": "2023-03-11T18:33:55.035573",
     "status": "completed"
    },
    "tags": []
   },
   "source": [
    "# 12. Model building"
   ]
  },
  {
   "cell_type": "code",
   "execution_count": 7,
   "id": "00b2082b",
   "metadata": {
    "execution": {
     "iopub.execute_input": "2023-03-11T18:33:55.098014Z",
     "iopub.status.busy": "2023-03-11T18:33:55.097536Z",
     "iopub.status.idle": "2023-03-11T18:33:55.102722Z",
     "shell.execute_reply": "2023-03-11T18:33:55.101354Z"
    },
    "papermill": {
     "duration": 0.030698,
     "end_time": "2023-03-11T18:33:55.105360",
     "exception": false,
     "start_time": "2023-03-11T18:33:55.074662",
     "status": "completed"
    },
    "tags": []
   },
   "outputs": [],
   "source": [
    "# zero_left = train[(train['BlastFurnaceSlag'] == 0) & (train['FlyAshComponent'] == 0) & (train['SuperplasticizerComponent'] == 0)]\n",
    "# without_zero = train.drop(zero_left.index)\n",
    "# zero_left = zero_left.drop(['BlastFurnaceSlag' , 'FlyAshComponent' ,'SuperplasticizerComponent'] ,axis = 1)\n",
    "# zero_left.to_csv('fivecolumns.csv' , index =False)\n",
    "# without_zero.to_csv('eightcolumns.csv',index = False)"
   ]
  },
  {
   "cell_type": "code",
   "execution_count": 8,
   "id": "ae5766ee",
   "metadata": {
    "execution": {
     "iopub.execute_input": "2023-03-11T18:33:55.146029Z",
     "iopub.status.busy": "2023-03-11T18:33:55.145497Z",
     "iopub.status.idle": "2023-03-11T18:33:55.183338Z",
     "shell.execute_reply": "2023-03-11T18:33:55.182273Z"
    },
    "papermill": {
     "duration": 0.061224,
     "end_time": "2023-03-11T18:33:55.185805",
     "exception": false,
     "start_time": "2023-03-11T18:33:55.124581",
     "status": "completed"
    },
    "tags": []
   },
   "outputs": [
    {
     "data": {
      "text/html": [
       "<div>\n",
       "<style scoped>\n",
       "    .dataframe tbody tr th:only-of-type {\n",
       "        vertical-align: middle;\n",
       "    }\n",
       "\n",
       "    .dataframe tbody tr th {\n",
       "        vertical-align: top;\n",
       "    }\n",
       "\n",
       "    .dataframe thead th {\n",
       "        text-align: right;\n",
       "    }\n",
       "</style>\n",
       "<table border=\"1\" class=\"dataframe\">\n",
       "  <thead>\n",
       "    <tr style=\"text-align: right;\">\n",
       "      <th></th>\n",
       "      <th>CementComponent</th>\n",
       "      <th>WaterComponent</th>\n",
       "      <th>CoarseAggregateComponent</th>\n",
       "      <th>FineAggregateComponent</th>\n",
       "      <th>AgeInDays</th>\n",
       "      <th>Strength</th>\n",
       "    </tr>\n",
       "  </thead>\n",
       "  <tbody>\n",
       "    <tr>\n",
       "      <th>0</th>\n",
       "      <td>525.0</td>\n",
       "      <td>186.0</td>\n",
       "      <td>1125.0</td>\n",
       "      <td>613.0</td>\n",
       "      <td>3</td>\n",
       "      <td>10.38</td>\n",
       "    </tr>\n",
       "    <tr>\n",
       "      <th>1</th>\n",
       "      <td>350.0</td>\n",
       "      <td>203.0</td>\n",
       "      <td>1055.0</td>\n",
       "      <td>775.0</td>\n",
       "      <td>7</td>\n",
       "      <td>37.43</td>\n",
       "    </tr>\n",
       "    <tr>\n",
       "      <th>2</th>\n",
       "      <td>322.0</td>\n",
       "      <td>203.0</td>\n",
       "      <td>974.0</td>\n",
       "      <td>800.0</td>\n",
       "      <td>180</td>\n",
       "      <td>42.14</td>\n",
       "    </tr>\n",
       "    <tr>\n",
       "      <th>3</th>\n",
       "      <td>500.0</td>\n",
       "      <td>200.0</td>\n",
       "      <td>1125.0</td>\n",
       "      <td>613.0</td>\n",
       "      <td>270</td>\n",
       "      <td>65.20</td>\n",
       "    </tr>\n",
       "    <tr>\n",
       "      <th>4</th>\n",
       "      <td>331.0</td>\n",
       "      <td>192.0</td>\n",
       "      <td>978.0</td>\n",
       "      <td>825.0</td>\n",
       "      <td>28</td>\n",
       "      <td>24.48</td>\n",
       "    </tr>\n",
       "  </tbody>\n",
       "</table>\n",
       "</div>"
      ],
      "text/plain": [
       "   CementComponent  WaterComponent  CoarseAggregateComponent  \\\n",
       "0            525.0           186.0                    1125.0   \n",
       "1            350.0           203.0                    1055.0   \n",
       "2            322.0           203.0                     974.0   \n",
       "3            500.0           200.0                    1125.0   \n",
       "4            331.0           192.0                     978.0   \n",
       "\n",
       "   FineAggregateComponent  AgeInDays  Strength  \n",
       "0                   613.0          3     10.38  \n",
       "1                   775.0          7     37.43  \n",
       "2                   800.0        180     42.14  \n",
       "3                   613.0        270     65.20  \n",
       "4                   825.0         28     24.48  "
      ]
     },
     "execution_count": 8,
     "metadata": {},
     "output_type": "execute_result"
    }
   ],
   "source": [
    "data1 = pd.read_csv('/kaggle/input/strength/fivecolumns.csv')\n",
    "data1.head()"
   ]
  },
  {
   "cell_type": "code",
   "execution_count": 9,
   "id": "4382cbe9",
   "metadata": {
    "execution": {
     "iopub.execute_input": "2023-03-11T18:33:55.227950Z",
     "iopub.status.busy": "2023-03-11T18:33:55.226663Z",
     "iopub.status.idle": "2023-03-11T18:33:55.240773Z",
     "shell.execute_reply": "2023-03-11T18:33:55.239232Z"
    },
    "papermill": {
     "duration": 0.037947,
     "end_time": "2023-03-11T18:33:55.243662",
     "exception": false,
     "start_time": "2023-03-11T18:33:55.205715",
     "status": "completed"
    },
    "tags": []
   },
   "outputs": [],
   "source": [
    "data1U = pd.DataFrame()\n",
    "data1U['Water_Cement'] = data1['WaterComponent']/data1['CementComponent']\n",
    "data1U['Coarse_Fine'] = data1['CoarseAggregateComponent']/data1['FineAggregateComponent']\n",
    "data1U['Aggregate'] = data1['CoarseAggregateComponent'] + data1['FineAggregateComponent']\n",
    "data1U['Aggregate_Cement'] = data1U['Aggregate']/data1['CementComponent']\n",
    "data1U['Age_Water'] = data1['AgeInDays']/data1['WaterComponent']\n",
    "data1U['Strength'] = data1['Strength']"
   ]
  },
  {
   "cell_type": "code",
   "execution_count": 10,
   "id": "c54cb1a1",
   "metadata": {
    "execution": {
     "iopub.execute_input": "2023-03-11T18:33:55.286496Z",
     "iopub.status.busy": "2023-03-11T18:33:55.285496Z",
     "iopub.status.idle": "2023-03-11T18:33:55.301604Z",
     "shell.execute_reply": "2023-03-11T18:33:55.299909Z"
    },
    "papermill": {
     "duration": 0.040926,
     "end_time": "2023-03-11T18:33:55.304807",
     "exception": false,
     "start_time": "2023-03-11T18:33:55.263881",
     "status": "completed"
    },
    "tags": []
   },
   "outputs": [
    {
     "data": {
      "text/html": [
       "<div>\n",
       "<style scoped>\n",
       "    .dataframe tbody tr th:only-of-type {\n",
       "        vertical-align: middle;\n",
       "    }\n",
       "\n",
       "    .dataframe tbody tr th {\n",
       "        vertical-align: top;\n",
       "    }\n",
       "\n",
       "    .dataframe thead th {\n",
       "        text-align: right;\n",
       "    }\n",
       "</style>\n",
       "<table border=\"1\" class=\"dataframe\">\n",
       "  <thead>\n",
       "    <tr style=\"text-align: right;\">\n",
       "      <th></th>\n",
       "      <th>Water_Cement</th>\n",
       "      <th>Coarse_Fine</th>\n",
       "      <th>Aggregate</th>\n",
       "      <th>Aggregate_Cement</th>\n",
       "      <th>Age_Water</th>\n",
       "      <th>Strength</th>\n",
       "    </tr>\n",
       "  </thead>\n",
       "  <tbody>\n",
       "    <tr>\n",
       "      <th>0</th>\n",
       "      <td>0.354286</td>\n",
       "      <td>1.835237</td>\n",
       "      <td>1738.0</td>\n",
       "      <td>3.310476</td>\n",
       "      <td>0.016129</td>\n",
       "      <td>10.38</td>\n",
       "    </tr>\n",
       "    <tr>\n",
       "      <th>1</th>\n",
       "      <td>0.580000</td>\n",
       "      <td>1.361290</td>\n",
       "      <td>1830.0</td>\n",
       "      <td>5.228571</td>\n",
       "      <td>0.034483</td>\n",
       "      <td>37.43</td>\n",
       "    </tr>\n",
       "    <tr>\n",
       "      <th>2</th>\n",
       "      <td>0.630435</td>\n",
       "      <td>1.217500</td>\n",
       "      <td>1774.0</td>\n",
       "      <td>5.509317</td>\n",
       "      <td>0.886700</td>\n",
       "      <td>42.14</td>\n",
       "    </tr>\n",
       "    <tr>\n",
       "      <th>3</th>\n",
       "      <td>0.400000</td>\n",
       "      <td>1.835237</td>\n",
       "      <td>1738.0</td>\n",
       "      <td>3.476000</td>\n",
       "      <td>1.350000</td>\n",
       "      <td>65.20</td>\n",
       "    </tr>\n",
       "    <tr>\n",
       "      <th>4</th>\n",
       "      <td>0.580060</td>\n",
       "      <td>1.185455</td>\n",
       "      <td>1803.0</td>\n",
       "      <td>5.447130</td>\n",
       "      <td>0.145833</td>\n",
       "      <td>24.48</td>\n",
       "    </tr>\n",
       "  </tbody>\n",
       "</table>\n",
       "</div>"
      ],
      "text/plain": [
       "   Water_Cement  Coarse_Fine  Aggregate  Aggregate_Cement  Age_Water  Strength\n",
       "0      0.354286     1.835237     1738.0          3.310476   0.016129     10.38\n",
       "1      0.580000     1.361290     1830.0          5.228571   0.034483     37.43\n",
       "2      0.630435     1.217500     1774.0          5.509317   0.886700     42.14\n",
       "3      0.400000     1.835237     1738.0          3.476000   1.350000     65.20\n",
       "4      0.580060     1.185455     1803.0          5.447130   0.145833     24.48"
      ]
     },
     "execution_count": 10,
     "metadata": {},
     "output_type": "execute_result"
    }
   ],
   "source": [
    "data1U.head()"
   ]
  },
  {
   "cell_type": "code",
   "execution_count": 11,
   "id": "868ad504",
   "metadata": {
    "execution": {
     "iopub.execute_input": "2023-03-11T18:33:55.347563Z",
     "iopub.status.busy": "2023-03-11T18:33:55.347109Z",
     "iopub.status.idle": "2023-03-11T18:33:55.352527Z",
     "shell.execute_reply": "2023-03-11T18:33:55.351089Z"
    },
    "papermill": {
     "duration": 0.030247,
     "end_time": "2023-03-11T18:33:55.355545",
     "exception": false,
     "start_time": "2023-03-11T18:33:55.325298",
     "status": "completed"
    },
    "tags": []
   },
   "outputs": [],
   "source": [
    "# df['Water_Cement'] = df['WaterComponent']/df['CementComponent']\n",
    "# df['Coarse_Fine'] = df['CoarseAggregateComponent']/df['FineAggregateComponent']\n",
    "# df['Aggregate'] = df['CoarseAggregateComponent'] + df['FineAggregateComponent']\n",
    "# df['Aggregate_Cement'] = df['Aggregate']/df['CementComponent']\n",
    "# df['Slag_Cement'] = df['BlastFurnaceSlag']/df['CementComponent']\n",
    "# df['Ash_Cement'] = df['FlyAshComponent']/df['CementComponent']\n",
    "# df['Plastic_Cement'] = df['SuperplasticizerComponent']/df['CementComponent']\n",
    "# df['Age_Water'] = df['AgeInDays']/df['WaterComponent']"
   ]
  },
  {
   "cell_type": "code",
   "execution_count": 12,
   "id": "6270f8b8",
   "metadata": {
    "execution": {
     "iopub.execute_input": "2023-03-11T18:33:55.397758Z",
     "iopub.status.busy": "2023-03-11T18:33:55.397287Z",
     "iopub.status.idle": "2023-03-11T18:33:55.405400Z",
     "shell.execute_reply": "2023-03-11T18:33:55.403994Z"
    },
    "papermill": {
     "duration": 0.032778,
     "end_time": "2023-03-11T18:33:55.408248",
     "exception": false,
     "start_time": "2023-03-11T18:33:55.375470",
     "status": "completed"
    },
    "tags": []
   },
   "outputs": [],
   "source": [
    "X = data1U.drop('Strength' ,axis =1)\n",
    "y = data1U.Strength"
   ]
  },
  {
   "cell_type": "code",
   "execution_count": 13,
   "id": "db016178",
   "metadata": {
    "execution": {
     "iopub.execute_input": "2023-03-11T18:33:55.451055Z",
     "iopub.status.busy": "2023-03-11T18:33:55.450538Z",
     "iopub.status.idle": "2023-03-11T18:33:55.457350Z",
     "shell.execute_reply": "2023-03-11T18:33:55.455950Z"
    },
    "papermill": {
     "duration": 0.03156,
     "end_time": "2023-03-11T18:33:55.460150",
     "exception": false,
     "start_time": "2023-03-11T18:33:55.428590",
     "status": "completed"
    },
    "tags": []
   },
   "outputs": [],
   "source": [
    "# def objective(trial):\n",
    "#     params = {\n",
    "#         \"iterations\": trial.suggest_int(\"iterations\", 100, 1000, step=100),\n",
    "#         \"learning_rate\": trial.suggest_float(\"learning_rate\", 0.01, 0.1),\n",
    "#         \"depth\": trial.suggest_int(\"depth\", 4, 10),\n",
    "#         \"l2_leaf_reg\": trial.suggest_float(\"l2_leaf_reg\", 1e-5, 1e2, log=True),\n",
    "#         \"bagging_temperature\": trial.suggest_float(\"bagging_temperature\", 0.0, 10.0),\n",
    "#         \"border_count\": trial.suggest_int(\"border_count\", 32, 255, step=32),\n",
    "#         \"random_seed\": 42\n",
    "#     }\n",
    "    \n",
    "\n",
    "    \n",
    "#     model = CatBoostRegressor(**params, silent=True)\n",
    "\n",
    "#     model.fit(X,y)\n",
    "#     r = mean_squared_error(y, model.predict(X),squared=False)\n",
    "#     return r\n",
    "\n",
    "# study = optuna.create_study(direction='minimize')\n",
    "# study.optimize(objective, n_trials=100)\n",
    "\n",
    "# print('Best_hyperparameters: ', study.best_params)\n",
    "# print('Best_rmse: ', study.best_value)"
   ]
  },
  {
   "cell_type": "code",
   "execution_count": null,
   "id": "fd46184c",
   "metadata": {
    "papermill": {
     "duration": 0.020543,
     "end_time": "2023-03-11T18:33:55.502626",
     "exception": false,
     "start_time": "2023-03-11T18:33:55.482083",
     "status": "completed"
    },
    "tags": []
   },
   "outputs": [],
   "source": []
  },
  {
   "cell_type": "code",
   "execution_count": 14,
   "id": "1df5c009",
   "metadata": {
    "execution": {
     "iopub.execute_input": "2023-03-11T18:33:55.549315Z",
     "iopub.status.busy": "2023-03-11T18:33:55.548833Z",
     "iopub.status.idle": "2023-03-11T18:33:55.555057Z",
     "shell.execute_reply": "2023-03-11T18:33:55.553662Z"
    },
    "papermill": {
     "duration": 0.034277,
     "end_time": "2023-03-11T18:33:55.559502",
     "exception": false,
     "start_time": "2023-03-11T18:33:55.525225",
     "status": "completed"
    },
    "tags": []
   },
   "outputs": [],
   "source": [
    "\n",
    "# def objective(trial):\n",
    "#     params = {\"n_estimators\":trial.suggest_int('n_estimators', 50,1000),\n",
    "#         \"eta\": trial.suggest_float(\"eta\", 0.01, 0.3),\n",
    "#         \"max_depth\": trial.suggest_int(\"max_depth\", 3, 10),\n",
    "#         \"min_child_weight\": trial.suggest_float(\"min_child_weight\", 0.1, 10),\n",
    "#         \"subsample\": trial.suggest_float(\"subsample\", 0.5, 1.0),\n",
    "#         \"colsample_bytree\": trial.suggest_float(\"colsample_bytree\", 0.5, 1.0),\n",
    "#         \"lambda\": trial.suggest_float(\"lambda\", 0, 10),\n",
    "#         \"alpha\": trial.suggest_float(\"alpha\", 0, 10),\n",
    "#         \"random_state\": 42\n",
    "#     }\n",
    "    \n",
    "\n",
    "    \n",
    "#     model = XGBRegressor(**params, silent=True)\n",
    "\n",
    "#     model.fit(X,y)\n",
    "#     r = mean_squared_error(y, model.predict(X),squared=False)\n",
    "#     return r\n",
    "\n",
    "# study = optuna.create_study(direction='minimize')\n",
    "# study.optimize(objective, n_trials=100)\n",
    "\n",
    "# print('Best_hyperparameters: ', study.best_params)\n",
    "# print('Best_rmse: ', study.best_value)\n"
   ]
  },
  {
   "cell_type": "code",
   "execution_count": null,
   "id": "ab0cecb3",
   "metadata": {
    "papermill": {
     "duration": 0.020765,
     "end_time": "2023-03-11T18:33:55.601709",
     "exception": false,
     "start_time": "2023-03-11T18:33:55.580944",
     "status": "completed"
    },
    "tags": []
   },
   "outputs": [],
   "source": []
  },
  {
   "cell_type": "code",
   "execution_count": 15,
   "id": "dbb2abb0",
   "metadata": {
    "execution": {
     "iopub.execute_input": "2023-03-11T18:33:55.647454Z",
     "iopub.status.busy": "2023-03-11T18:33:55.646033Z",
     "iopub.status.idle": "2023-03-11T18:33:55.651950Z",
     "shell.execute_reply": "2023-03-11T18:33:55.650930Z"
    },
    "papermill": {
     "duration": 0.031175,
     "end_time": "2023-03-11T18:33:55.654539",
     "exception": false,
     "start_time": "2023-03-11T18:33:55.623364",
     "status": "completed"
    },
    "tags": []
   },
   "outputs": [],
   "source": [
    "\n",
    "# def objective(trial):\n",
    "#     params = {\"n_estimators\":trial.suggest_int('n_estimators', 50,1000),\n",
    "#         \"objective\": \"regression\",\n",
    "#         \"learning_rate\": trial.suggest_float(\"learning_rate\", 0.01, 0.3),\n",
    "#         \"max_depth\": trial.suggest_int(\"max_depth\", 3, 10),\n",
    "#         \"num_leaves\": trial.suggest_int(\"num_leaves\", 10, 1000),\n",
    "#         \"feature_fraction\": trial.suggest_float(\"feature_fraction\", 0.5, 1.0),\n",
    "#         \"bagging_fraction\": trial.suggest_float(\"bagging_fraction\", 0.5, 1.0),\n",
    "#         \"lambda_l1\": trial.suggest_float(\"lambda_l1\", 0, 10),\n",
    "#         \"lambda_l2\": trial.suggest_float(\"lambda_l2\", 0, 10),\n",
    "#         \"random_state\": 42\n",
    "#     }\n",
    "    \n",
    "\n",
    "    \n",
    "#     model = LGBMRegressor(**params, silent=True)\n",
    "\n",
    "#     model.fit(X,y)\n",
    "#     r = mean_squared_error(y, model.predict(X),squared=False)\n",
    "#     return r\n",
    "\n",
    "# study = optuna.create_study(direction='minimize')\n",
    "# study.optimize(objective, n_trials=100)\n",
    "\n",
    "# print('Best_hyperparameters: ', study.best_params)\n",
    "# print('Best_rmse: ', study.best_value)\n"
   ]
  },
  {
   "cell_type": "code",
   "execution_count": null,
   "id": "63aaf039",
   "metadata": {
    "papermill": {
     "duration": 0.020537,
     "end_time": "2023-03-11T18:33:55.697259",
     "exception": false,
     "start_time": "2023-03-11T18:33:55.676722",
     "status": "completed"
    },
    "tags": []
   },
   "outputs": [],
   "source": []
  },
  {
   "cell_type": "code",
   "execution_count": 16,
   "id": "7521011f",
   "metadata": {
    "execution": {
     "iopub.execute_input": "2023-03-11T18:33:55.739677Z",
     "iopub.status.busy": "2023-03-11T18:33:55.738311Z",
     "iopub.status.idle": "2023-03-11T18:33:55.746738Z",
     "shell.execute_reply": "2023-03-11T18:33:55.745291Z"
    },
    "papermill": {
     "duration": 0.03334,
     "end_time": "2023-03-11T18:33:55.750403",
     "exception": false,
     "start_time": "2023-03-11T18:33:55.717063",
     "status": "completed"
    },
    "tags": []
   },
   "outputs": [],
   "source": [
    "lgb_hyperparameters = {'n_estimators': 814, 'learning_rate': 0.2937775464636304, 'max_depth': 10, 'num_leaves': 372, 'feature_fraction': 0.8296430029298342, 'bagging_fraction': 0.7153305720820494, 'lambda_l1': 0.75243642722118, 'lambda_l2': 0.008234214904501786}\n",
    "# Best_rmse:  8.759894242762075\n",
    "    \n",
    "    \n",
    "catboost_hyperparameters= {'iterations': 1000, 'learning_rate': 0.099530306160531, 'depth': 10, 'l2_leaf_reg': 0.0009432436315020325, 'bagging_temperature': 8.986758813626793, 'border_count': 64}\n",
    "# Best_rmse:  8.671966089885006\n",
    "    \n",
    "    \n",
    "XGB_hyperparameters = {'n_estimators': 624, 'eta': 0.24664894894176886, 'max_depth': 10, 'min_child_weight': 1.1063720875150618, 'subsample': 0.9995751483339743, 'colsample_bytree': 0.8710062779351881, 'lambda': 6.789942957522003, 'alpha': 0.29600624916416296}\n",
    "# Best_rmse:  8.744503269936352"
   ]
  },
  {
   "cell_type": "code",
   "execution_count": 17,
   "id": "988b3d69",
   "metadata": {
    "execution": {
     "iopub.execute_input": "2023-03-11T18:33:55.792161Z",
     "iopub.status.busy": "2023-03-11T18:33:55.791658Z",
     "iopub.status.idle": "2023-03-11T18:34:10.756967Z",
     "shell.execute_reply": "2023-03-11T18:34:10.754818Z"
    },
    "papermill": {
     "duration": 14.991063,
     "end_time": "2023-03-11T18:34:10.761272",
     "exception": false,
     "start_time": "2023-03-11T18:33:55.770209",
     "status": "completed"
    },
    "tags": []
   },
   "outputs": [
    {
     "name": "stdout",
     "output_type": "stream",
     "text": [
      "[LightGBM] [Warning] lambda_l1 is set=0.75243642722118, reg_alpha=0.0 will be ignored. Current value: lambda_l1=0.75243642722118\n",
      "[LightGBM] [Warning] feature_fraction is set=0.8296430029298342, colsample_bytree=1.0 will be ignored. Current value: feature_fraction=0.8296430029298342\n",
      "[LightGBM] [Warning] lambda_l2 is set=0.008234214904501786, reg_lambda=0.0 will be ignored. Current value: lambda_l2=0.008234214904501786\n",
      "[LightGBM] [Warning] bagging_fraction is set=0.7153305720820494, subsample=1.0 will be ignored. Current value: bagging_fraction=0.7153305720820494\n"
     ]
    },
    {
     "data": {
      "text/plain": [
       "XGBRegressor(alpha=0.29600624916416296, base_score=0.5, booster='gbtree',\n",
       "             callbacks=None, colsample_bylevel=1, colsample_bynode=1,\n",
       "             colsample_bytree=0.8710062779351881, early_stopping_rounds=None,\n",
       "             enable_categorical=False, eta=0.24664894894176886,\n",
       "             eval_metric=None, gamma=0, gpu_id=-1, grow_policy='depthwise',\n",
       "             importance_type=None, interaction_constraints='',\n",
       "             lambda=6.789942957522003, learning_rate=0.246648952, max_bin=256,\n",
       "             max_cat_to_onehot=4, max_delta_step=0, max_depth=10, max_leaves=0,\n",
       "             min_child_weight=1.1063720875150618, missing=nan,\n",
       "             monotone_constraints='()', n_estimators=624, n_jobs=0,\n",
       "             num_parallel_tree=1, predictor='auto', ...)"
      ]
     },
     "execution_count": 17,
     "metadata": {},
     "output_type": "execute_result"
    }
   ],
   "source": [
    "lgb_data1 = LGBMRegressor(**lgb_hyperparameters)\n",
    "lgb_data1.fit(X,y)\n",
    "cat_data1 = CatBoostRegressor(**catboost_hyperparameters ,silent=True)\n",
    "cat_data1.fit(X,y)\n",
    "xgb_data1 = XGBRegressor(**XGB_hyperparameters)\n",
    "xgb_data1.fit(X,y)\n"
   ]
  },
  {
   "cell_type": "code",
   "execution_count": 18,
   "id": "a926e017",
   "metadata": {
    "execution": {
     "iopub.execute_input": "2023-03-11T18:34:10.810269Z",
     "iopub.status.busy": "2023-03-11T18:34:10.809782Z",
     "iopub.status.idle": "2023-03-11T18:34:11.070500Z",
     "shell.execute_reply": "2023-03-11T18:34:11.068498Z"
    },
    "papermill": {
     "duration": 0.289257,
     "end_time": "2023-03-11T18:34:11.074767",
     "exception": false,
     "start_time": "2023-03-11T18:34:10.785510",
     "status": "completed"
    },
    "tags": []
   },
   "outputs": [],
   "source": [
    "data1_stack = pd.DataFrame()\n",
    "data1_stack['lgb'] = lgb_data1.predict(X)\n",
    "data1_stack['cat'] = cat_data1.predict(X)\n",
    "data1_stack['xgb'] = xgb_data1.predict(X)\n",
    "data1_stack['original'] = y\n"
   ]
  },
  {
   "cell_type": "code",
   "execution_count": 19,
   "id": "2a3b5643",
   "metadata": {
    "execution": {
     "iopub.execute_input": "2023-03-11T18:34:11.121428Z",
     "iopub.status.busy": "2023-03-11T18:34:11.120945Z",
     "iopub.status.idle": "2023-03-11T18:34:11.127756Z",
     "shell.execute_reply": "2023-03-11T18:34:11.125763Z"
    },
    "papermill": {
     "duration": 0.034037,
     "end_time": "2023-03-11T18:34:11.131714",
     "exception": false,
     "start_time": "2023-03-11T18:34:11.097677",
     "status": "completed"
    },
    "tags": []
   },
   "outputs": [],
   "source": [
    "# Coefficient Optimizing\n",
    "# def obj(a,b,c):\n",
    "#     pred = data1_stack['lgb']*a +data1_stack['cat']*b +data1_stack['xgb']*c\n",
    "    \n",
    "#     rmse = mean_squared_error(data1_stack.original , pred ,squared=False)\n",
    "    \n",
    "#     return -rmse\n",
    "\n",
    "# optimizer = BayesianOptimization(f = obj ,pbounds={'a':(0,1),\n",
    "#                                                   'b':(0,1),\n",
    "#                                                   'c':(0,1)} ,allow_duplicate_points=True )\n",
    "# optimizer.maximize(init_points=5 ,n_iter=100)\n",
    "\n",
    "# print(\"best_value\" , optimizer.max)"
   ]
  },
  {
   "cell_type": "code",
   "execution_count": 20,
   "id": "f232686c",
   "metadata": {
    "execution": {
     "iopub.execute_input": "2023-03-11T18:34:11.179425Z",
     "iopub.status.busy": "2023-03-11T18:34:11.178980Z",
     "iopub.status.idle": "2023-03-11T18:34:11.187367Z",
     "shell.execute_reply": "2023-03-11T18:34:11.185713Z"
    },
    "papermill": {
     "duration": 0.034941,
     "end_time": "2023-03-11T18:34:11.190661",
     "exception": false,
     "start_time": "2023-03-11T18:34:11.155720",
     "status": "completed"
    },
    "tags": []
   },
   "outputs": [],
   "source": [
    "# (init_points 15- n_iter 50)\n",
    "# best_value{'target': -8.68865154630771, 'params': {'a': 0.0, 'b': 0.6015394786455033, 'c': 0.39288199277520414}}\n",
    "#(init_points 5 - n_iter_100)\n",
    "# best_value {'target': -8.672062791820608, 'params': {'a': 0.0, 'b': 1.0, 'c': 0.0}}"
   ]
  },
  {
   "cell_type": "code",
   "execution_count": 21,
   "id": "4cecbfb6",
   "metadata": {
    "execution": {
     "iopub.execute_input": "2023-03-11T18:34:11.234987Z",
     "iopub.status.busy": "2023-03-11T18:34:11.234543Z",
     "iopub.status.idle": "2023-03-11T18:34:11.243324Z",
     "shell.execute_reply": "2023-03-11T18:34:11.241628Z"
    },
    "papermill": {
     "duration": 0.034315,
     "end_time": "2023-03-11T18:34:11.246220",
     "exception": false,
     "start_time": "2023-03-11T18:34:11.211905",
     "status": "completed"
    },
    "tags": []
   },
   "outputs": [],
   "source": [
    "X = data1_stack.drop('original' ,axis=1)\n",
    "y = data1_stack.original"
   ]
  },
  {
   "cell_type": "code",
   "execution_count": 22,
   "id": "4e3087cb",
   "metadata": {
    "execution": {
     "iopub.execute_input": "2023-03-11T18:34:11.292364Z",
     "iopub.status.busy": "2023-03-11T18:34:11.291895Z",
     "iopub.status.idle": "2023-03-11T18:34:11.298489Z",
     "shell.execute_reply": "2023-03-11T18:34:11.297104Z"
    },
    "papermill": {
     "duration": 0.033154,
     "end_time": "2023-03-11T18:34:11.301571",
     "exception": false,
     "start_time": "2023-03-11T18:34:11.268417",
     "status": "completed"
    },
    "tags": []
   },
   "outputs": [],
   "source": [
    "# def objective(trial):\n",
    "#     params = {\"n_estimators\":trial.suggest_int('n_estimators', 50,1000),\n",
    "#         \"eta\": trial.suggest_float(\"eta\", 0.01, 0.3),\n",
    "#         \"max_depth\": trial.suggest_int(\"max_depth\", 3, 10),\n",
    "#         \"min_child_weight\": trial.suggest_float(\"min_child_weight\", 0.1, 10),\n",
    "#         \"subsample\": trial.suggest_float(\"subsample\", 0.5, 1.0),\n",
    "#         \"colsample_bytree\": trial.suggest_float(\"colsample_bytree\", 0.5, 1.0),\n",
    "#         \"lambda\": trial.suggest_float(\"lambda\", 0, 10),\n",
    "#         \"alpha\": trial.suggest_float(\"alpha\", 0, 10),\n",
    "#         \"random_state\": 42\n",
    "#     }\n",
    "    \n",
    "\n",
    "    \n",
    "#     model = XGBRegressor(**params, silent=True)\n",
    "\n",
    "#     model.fit(X,y)\n",
    "#     r = mean_squared_error(y, model.predict(X),squared=False)\n",
    "#     return r\n",
    "\n",
    "# study = optuna.create_study(direction='minimize')\n",
    "# study.optimize(objective, n_trials=100)\n",
    "\n",
    "# print('Best_hyperparameters: ', study.best_params)\n",
    "# print('Best_rmse: ', study.best_value)"
   ]
  },
  {
   "cell_type": "code",
   "execution_count": 23,
   "id": "543ca80b",
   "metadata": {
    "execution": {
     "iopub.execute_input": "2023-03-11T18:34:11.345801Z",
     "iopub.status.busy": "2023-03-11T18:34:11.345376Z",
     "iopub.status.idle": "2023-03-11T18:34:11.352685Z",
     "shell.execute_reply": "2023-03-11T18:34:11.350657Z"
    },
    "papermill": {
     "duration": 0.034434,
     "end_time": "2023-03-11T18:34:11.355997",
     "exception": false,
     "start_time": "2023-03-11T18:34:11.321563",
     "status": "completed"
    },
    "tags": []
   },
   "outputs": [],
   "source": [
    "# {'n_estimators': 864, 'eta': 0.02933082358597977, 'max_depth': 8, 'min_child_weight': 0.28563337898254204, 'subsample': 0.9990419418642175, 'colsample_bytree': 0.6906440163879248, 'lambda': 3.9637159896568046, 'alpha': 1.1986400719358095}"
   ]
  },
  {
   "cell_type": "code",
   "execution_count": 24,
   "id": "f3094005",
   "metadata": {
    "execution": {
     "iopub.execute_input": "2023-03-11T18:34:11.400157Z",
     "iopub.status.busy": "2023-03-11T18:34:11.399671Z",
     "iopub.status.idle": "2023-03-11T18:34:11.407479Z",
     "shell.execute_reply": "2023-03-11T18:34:11.406204Z"
    },
    "papermill": {
     "duration": 0.032174,
     "end_time": "2023-03-11T18:34:11.410158",
     "exception": false,
     "start_time": "2023-03-11T18:34:11.377984",
     "status": "completed"
    },
    "tags": []
   },
   "outputs": [],
   "source": [
    "\n",
    "# def objective(trial):\n",
    "#     params = {\"n_estimators\":trial.suggest_int('n_estimators', 50,1000),\n",
    "#         \"objective\": \"regression\",\n",
    "#         \"learning_rate\": trial.suggest_float(\"learning_rate\", 0.01, 0.3),\n",
    "#         \"max_depth\": trial.suggest_int(\"max_depth\", 3, 10),\n",
    "#         \"num_leaves\": trial.suggest_int(\"num_leaves\", 10, 1000),\n",
    "#         \"feature_fraction\": trial.suggest_float(\"feature_fraction\", 0.5, 1.0),\n",
    "#         \"bagging_fraction\": trial.suggest_float(\"bagging_fraction\", 0.5, 1.0),\n",
    "#         \"lambda_l1\": trial.suggest_float(\"lambda_l1\", 0, 10),\n",
    "#         \"lambda_l2\": trial.suggest_float(\"lambda_l2\", 0, 10),\n",
    "#         \"random_state\": 42\n",
    "#     }\n",
    "    \n",
    "\n",
    "    \n",
    "#     model = LGBMRegressor(**params, silent=True)\n",
    "\n",
    "#     model.fit(X,y)\n",
    "#     r = mean_squared_error(y, model.predict(X),squared=False)\n",
    "#     return r\n",
    "\n",
    "# study = optuna.create_study(direction='minimize')\n",
    "# study.optimize(objective, n_trials=100)\n",
    "\n",
    "# print('Best_hyperparameters: ', study.best_params)\n",
    "# print('Best_rmse: ', study.best_value)"
   ]
  },
  {
   "cell_type": "code",
   "execution_count": 25,
   "id": "4185b04b",
   "metadata": {
    "execution": {
     "iopub.execute_input": "2023-03-11T18:34:11.459170Z",
     "iopub.status.busy": "2023-03-11T18:34:11.458541Z",
     "iopub.status.idle": "2023-03-11T18:34:11.467575Z",
     "shell.execute_reply": "2023-03-11T18:34:11.465497Z"
    },
    "papermill": {
     "duration": 0.038862,
     "end_time": "2023-03-11T18:34:11.470578",
     "exception": false,
     "start_time": "2023-03-11T18:34:11.431716",
     "status": "completed"
    },
    "tags": []
   },
   "outputs": [],
   "source": [
    "\n",
    "\n",
    "\n",
    "\n",
    "\n",
    "\n",
    "\n",
    "\n",
    "# def objective(trial):\n",
    "#     params = {\n",
    "#         \"iterations\": trial.suggest_int(\"iterations\", 100, 1000, step=100),\n",
    "#         \"learning_rate\": trial.suggest_float(\"learning_rate\", 0.01, 0.1),\n",
    "#         \"depth\": trial.suggest_int(\"depth\", 4, 10),\n",
    "#         \"l2_leaf_reg\": trial.suggest_float(\"l2_leaf_reg\", 1e-5, 1e2, log=True),\n",
    "#         \"bagging_temperature\": trial.suggest_float(\"bagging_temperature\", 0.0, 10.0),\n",
    "#         \"border_count\": trial.suggest_int(\"border_count\", 32, 255, step=32),\n",
    "#         \"random_seed\": 42\n",
    "#     }\n",
    "    \n",
    "\n",
    "    \n",
    "#     model = CatBoostRegressor(**params, silent=True)\n",
    "\n",
    "#     model.fit(X,y)\n",
    "#     r = mean_squared_error(y, model.predict(X),squared=False)\n",
    "#     return r\n",
    "\n",
    "# study = optuna.create_study(direction='minimize')\n",
    "# study.optimize(objective, n_trials=100)\n",
    "\n",
    "# print('Best_hyperparameters: ', study.best_params)\n",
    "# print('Best_rmse: ', study.best_value)\n"
   ]
  },
  {
   "cell_type": "code",
   "execution_count": 26,
   "id": "3d2194d0",
   "metadata": {
    "execution": {
     "iopub.execute_input": "2023-03-11T18:34:11.516395Z",
     "iopub.status.busy": "2023-03-11T18:34:11.515684Z",
     "iopub.status.idle": "2023-03-11T18:34:11.524093Z",
     "shell.execute_reply": "2023-03-11T18:34:11.522588Z"
    },
    "papermill": {
     "duration": 0.035556,
     "end_time": "2023-03-11T18:34:11.527569",
     "exception": false,
     "start_time": "2023-03-11T18:34:11.492013",
     "status": "completed"
    },
    "tags": []
   },
   "outputs": [],
   "source": [
    "\n",
    "\n",
    "\n",
    "\n",
    "XGB_hyperparameters_final = {'n_estimators': 864, 'eta': 0.02933082358597977, 'max_depth': 8, 'min_child_weight': 0.28563337898254204, 'subsample': 0.9990419418642175, 'colsample_bytree': 0.6906440163879248, 'lambda': 3.9637159896568046, 'alpha': 1.1986400719358095}\n",
    "# Best_rmse:  8.671118199999102\n",
    "    \n",
    "# lgb_Best_hyperparameters:  {'n_estimators': 953, 'learning_rate': 0.2720068359368248, 'max_depth': 8, 'num_leaves': 877, 'feature_fraction': 0.666760254198479, 'bagging_fraction': 0.6253084725017961, 'lambda_l1': 0.0038426664304350155, 'lambda_l2': 3.744575802556337}\n",
    "# Best_rmse:  8.679303952735054\n",
    "    \n",
    "    \n",
    "# cat_hyperparameters:  {'iterations': 1000, 'learning_rate': 0.09351617016583201, 'depth': 10, 'l2_leaf_reg': 0.0025846140981067335, 'bagging_temperature': 1.2387735437922007, 'border_count': 224}\n",
    "# Best_rmse:  8.67176763811121\n",
    "\n",
    "\n",
    "# (init_points 15- n_iter 50)\n",
    "# 'Best_rmse': -8.68865154630771, 'params': {'a': 0.0, 'b': 0.6015394786455033, 'c': 0.39288199277520414}\n",
    "\n",
    "\n",
    "#(init_points 5 - n_iter_100)\n",
    "# Best_rmse': -8.672062791820608, 'params': {'a': 0.0, 'b': 1.0, 'c': 0.0}"
   ]
  },
  {
   "cell_type": "code",
   "execution_count": 27,
   "id": "40d63858",
   "metadata": {
    "execution": {
     "iopub.execute_input": "2023-03-11T18:34:11.573585Z",
     "iopub.status.busy": "2023-03-11T18:34:11.572977Z",
     "iopub.status.idle": "2023-03-11T18:34:14.846390Z",
     "shell.execute_reply": "2023-03-11T18:34:14.844901Z"
    },
    "papermill": {
     "duration": 3.299948,
     "end_time": "2023-03-11T18:34:14.850254",
     "exception": false,
     "start_time": "2023-03-11T18:34:11.550306",
     "status": "completed"
    },
    "tags": []
   },
   "outputs": [
    {
     "data": {
      "text/plain": [
       "XGBRegressor(alpha=1.1986400719358095, base_score=0.5, booster='gbtree',\n",
       "             callbacks=None, colsample_bylevel=1, colsample_bynode=1,\n",
       "             colsample_bytree=0.6906440163879248, early_stopping_rounds=None,\n",
       "             enable_categorical=False, eta=0.02933082358597977,\n",
       "             eval_metric=None, gamma=0, gpu_id=-1, grow_policy='depthwise',\n",
       "             importance_type=None, interaction_constraints='',\n",
       "             lambda=3.9637159896568046, learning_rate=0.0293308236, max_bin=256,\n",
       "             max_cat_to_onehot=4, max_delta_step=0, max_depth=8, max_leaves=0,\n",
       "             min_child_weight=0.28563337898254204, missing=nan,\n",
       "             monotone_constraints='()', n_estimators=864, n_jobs=0,\n",
       "             num_parallel_tree=1, predictor='auto', ...)"
      ]
     },
     "execution_count": 27,
     "metadata": {},
     "output_type": "execute_result"
    }
   ],
   "source": [
    "XGB_final_data1 = XGBRegressor(**XGB_hyperparameters_final)\n",
    "XGB_final_data1.fit(X,y)"
   ]
  },
  {
   "cell_type": "code",
   "execution_count": 28,
   "id": "975b5f45",
   "metadata": {
    "execution": {
     "iopub.execute_input": "2023-03-11T18:34:14.902470Z",
     "iopub.status.busy": "2023-03-11T18:34:14.902058Z",
     "iopub.status.idle": "2023-03-11T18:34:14.922771Z",
     "shell.execute_reply": "2023-03-11T18:34:14.920834Z"
    },
    "papermill": {
     "duration": 0.050104,
     "end_time": "2023-03-11T18:34:14.926463",
     "exception": false,
     "start_time": "2023-03-11T18:34:14.876359",
     "status": "completed"
    },
    "tags": []
   },
   "outputs": [],
   "source": [
    "data2 = pd.read_csv('/kaggle/input/strength/eightcolumns.csv')"
   ]
  },
  {
   "cell_type": "code",
   "execution_count": 29,
   "id": "e5e6c50d",
   "metadata": {
    "execution": {
     "iopub.execute_input": "2023-03-11T18:34:14.984406Z",
     "iopub.status.busy": "2023-03-11T18:34:14.983753Z",
     "iopub.status.idle": "2023-03-11T18:34:15.018045Z",
     "shell.execute_reply": "2023-03-11T18:34:15.015770Z"
    },
    "papermill": {
     "duration": 0.063487,
     "end_time": "2023-03-11T18:34:15.021909",
     "exception": false,
     "start_time": "2023-03-11T18:34:14.958422",
     "status": "completed"
    },
    "tags": []
   },
   "outputs": [
    {
     "data": {
      "text/html": [
       "<div>\n",
       "<style scoped>\n",
       "    .dataframe tbody tr th:only-of-type {\n",
       "        vertical-align: middle;\n",
       "    }\n",
       "\n",
       "    .dataframe tbody tr th {\n",
       "        vertical-align: top;\n",
       "    }\n",
       "\n",
       "    .dataframe thead th {\n",
       "        text-align: right;\n",
       "    }\n",
       "</style>\n",
       "<table border=\"1\" class=\"dataframe\">\n",
       "  <thead>\n",
       "    <tr style=\"text-align: right;\">\n",
       "      <th></th>\n",
       "      <th>CementComponent</th>\n",
       "      <th>BlastFurnaceSlag</th>\n",
       "      <th>FlyAshComponent</th>\n",
       "      <th>WaterComponent</th>\n",
       "      <th>SuperplasticizerComponent</th>\n",
       "      <th>CoarseAggregateComponent</th>\n",
       "      <th>FineAggregateComponent</th>\n",
       "      <th>AgeInDays</th>\n",
       "      <th>Strength</th>\n",
       "    </tr>\n",
       "  </thead>\n",
       "  <tbody>\n",
       "    <tr>\n",
       "      <th>0</th>\n",
       "      <td>143.0</td>\n",
       "      <td>169.0</td>\n",
       "      <td>143.0</td>\n",
       "      <td>191.0</td>\n",
       "      <td>8.0</td>\n",
       "      <td>967.0</td>\n",
       "      <td>643.0</td>\n",
       "      <td>28</td>\n",
       "      <td>23.52</td>\n",
       "    </tr>\n",
       "    <tr>\n",
       "      <th>1</th>\n",
       "      <td>289.0</td>\n",
       "      <td>134.7</td>\n",
       "      <td>0.0</td>\n",
       "      <td>185.7</td>\n",
       "      <td>0.0</td>\n",
       "      <td>1075.0</td>\n",
       "      <td>795.3</td>\n",
       "      <td>28</td>\n",
       "      <td>36.96</td>\n",
       "    </tr>\n",
       "    <tr>\n",
       "      <th>2</th>\n",
       "      <td>304.0</td>\n",
       "      <td>76.0</td>\n",
       "      <td>0.0</td>\n",
       "      <td>228.0</td>\n",
       "      <td>0.0</td>\n",
       "      <td>932.0</td>\n",
       "      <td>670.0</td>\n",
       "      <td>365</td>\n",
       "      <td>39.05</td>\n",
       "    </tr>\n",
       "    <tr>\n",
       "      <th>3</th>\n",
       "      <td>157.0</td>\n",
       "      <td>236.0</td>\n",
       "      <td>0.0</td>\n",
       "      <td>192.0</td>\n",
       "      <td>0.0</td>\n",
       "      <td>935.4</td>\n",
       "      <td>781.2</td>\n",
       "      <td>90</td>\n",
       "      <td>74.19</td>\n",
       "    </tr>\n",
       "    <tr>\n",
       "      <th>4</th>\n",
       "      <td>135.7</td>\n",
       "      <td>203.5</td>\n",
       "      <td>0.0</td>\n",
       "      <td>185.7</td>\n",
       "      <td>0.0</td>\n",
       "      <td>1076.2</td>\n",
       "      <td>759.3</td>\n",
       "      <td>28</td>\n",
       "      <td>35.10</td>\n",
       "    </tr>\n",
       "  </tbody>\n",
       "</table>\n",
       "</div>"
      ],
      "text/plain": [
       "   CementComponent  BlastFurnaceSlag  FlyAshComponent  WaterComponent  \\\n",
       "0            143.0             169.0            143.0           191.0   \n",
       "1            289.0             134.7              0.0           185.7   \n",
       "2            304.0              76.0              0.0           228.0   \n",
       "3            157.0             236.0              0.0           192.0   \n",
       "4            135.7             203.5              0.0           185.7   \n",
       "\n",
       "   SuperplasticizerComponent  CoarseAggregateComponent  \\\n",
       "0                        8.0                     967.0   \n",
       "1                        0.0                    1075.0   \n",
       "2                        0.0                     932.0   \n",
       "3                        0.0                     935.4   \n",
       "4                        0.0                    1076.2   \n",
       "\n",
       "   FineAggregateComponent  AgeInDays  Strength  \n",
       "0                   643.0         28     23.52  \n",
       "1                   795.3         28     36.96  \n",
       "2                   670.0        365     39.05  \n",
       "3                   781.2         90     74.19  \n",
       "4                   759.3         28     35.10  "
      ]
     },
     "execution_count": 29,
     "metadata": {},
     "output_type": "execute_result"
    }
   ],
   "source": [
    "data2.head()"
   ]
  },
  {
   "cell_type": "code",
   "execution_count": 30,
   "id": "2fd095e6",
   "metadata": {
    "execution": {
     "iopub.execute_input": "2023-03-11T18:34:15.073878Z",
     "iopub.status.busy": "2023-03-11T18:34:15.071620Z",
     "iopub.status.idle": "2023-03-11T18:34:15.102466Z",
     "shell.execute_reply": "2023-03-11T18:34:15.101198Z"
    },
    "papermill": {
     "duration": 0.058659,
     "end_time": "2023-03-11T18:34:15.105552",
     "exception": false,
     "start_time": "2023-03-11T18:34:15.046893",
     "status": "completed"
    },
    "tags": []
   },
   "outputs": [],
   "source": [
    "data2U = pd.DataFrame()\n",
    "\n",
    "data2U['Water_Cement'] = data2['WaterComponent']/data2['CementComponent']\n",
    "data2U['Coarse_Fine'] = data2['CoarseAggregateComponent']/data2['FineAggregateComponent']\n",
    "data2U['Aggregate'] = data2['CoarseAggregateComponent'] + data2['FineAggregateComponent']\n",
    "data2U['Aggregate_Cement'] = data2U['Aggregate']/data2['CementComponent']\n",
    "data2U['Slag_Cement'] = data2['BlastFurnaceSlag']/data2['CementComponent']\n",
    "data2U['Ash_Cement'] = data2['FlyAshComponent']/data2['CementComponent']\n",
    "data2U['Plastic_Cement'] = data2['SuperplasticizerComponent']/data2['CementComponent']\n",
    "data2U['Age_Water'] = data2['AgeInDays']/data2['WaterComponent']\n",
    "data2U['Strength'] = data2.Strength\n"
   ]
  },
  {
   "cell_type": "code",
   "execution_count": 31,
   "id": "ea25d610",
   "metadata": {
    "execution": {
     "iopub.execute_input": "2023-03-11T18:34:15.155851Z",
     "iopub.status.busy": "2023-03-11T18:34:15.154389Z",
     "iopub.status.idle": "2023-03-11T18:34:15.174275Z",
     "shell.execute_reply": "2023-03-11T18:34:15.171865Z"
    },
    "papermill": {
     "duration": 0.048107,
     "end_time": "2023-03-11T18:34:15.177072",
     "exception": false,
     "start_time": "2023-03-11T18:34:15.128965",
     "status": "completed"
    },
    "tags": []
   },
   "outputs": [
    {
     "data": {
      "text/html": [
       "<div>\n",
       "<style scoped>\n",
       "    .dataframe tbody tr th:only-of-type {\n",
       "        vertical-align: middle;\n",
       "    }\n",
       "\n",
       "    .dataframe tbody tr th {\n",
       "        vertical-align: top;\n",
       "    }\n",
       "\n",
       "    .dataframe thead th {\n",
       "        text-align: right;\n",
       "    }\n",
       "</style>\n",
       "<table border=\"1\" class=\"dataframe\">\n",
       "  <thead>\n",
       "    <tr style=\"text-align: right;\">\n",
       "      <th></th>\n",
       "      <th>Water_Cement</th>\n",
       "      <th>Coarse_Fine</th>\n",
       "      <th>Aggregate</th>\n",
       "      <th>Aggregate_Cement</th>\n",
       "      <th>Slag_Cement</th>\n",
       "      <th>Ash_Cement</th>\n",
       "      <th>Plastic_Cement</th>\n",
       "      <th>Age_Water</th>\n",
       "      <th>Strength</th>\n",
       "    </tr>\n",
       "  </thead>\n",
       "  <tbody>\n",
       "    <tr>\n",
       "      <th>0</th>\n",
       "      <td>1.335664</td>\n",
       "      <td>1.503888</td>\n",
       "      <td>1610.0</td>\n",
       "      <td>11.258741</td>\n",
       "      <td>1.181818</td>\n",
       "      <td>1.0</td>\n",
       "      <td>0.055944</td>\n",
       "      <td>0.146597</td>\n",
       "      <td>23.52</td>\n",
       "    </tr>\n",
       "    <tr>\n",
       "      <th>1</th>\n",
       "      <td>0.642561</td>\n",
       "      <td>1.351691</td>\n",
       "      <td>1870.3</td>\n",
       "      <td>6.471626</td>\n",
       "      <td>0.466090</td>\n",
       "      <td>0.0</td>\n",
       "      <td>0.000000</td>\n",
       "      <td>0.150781</td>\n",
       "      <td>36.96</td>\n",
       "    </tr>\n",
       "    <tr>\n",
       "      <th>2</th>\n",
       "      <td>0.750000</td>\n",
       "      <td>1.391045</td>\n",
       "      <td>1602.0</td>\n",
       "      <td>5.269737</td>\n",
       "      <td>0.250000</td>\n",
       "      <td>0.0</td>\n",
       "      <td>0.000000</td>\n",
       "      <td>1.600877</td>\n",
       "      <td>39.05</td>\n",
       "    </tr>\n",
       "    <tr>\n",
       "      <th>3</th>\n",
       "      <td>1.222930</td>\n",
       "      <td>1.197389</td>\n",
       "      <td>1716.6</td>\n",
       "      <td>10.933758</td>\n",
       "      <td>1.503185</td>\n",
       "      <td>0.0</td>\n",
       "      <td>0.000000</td>\n",
       "      <td>0.468750</td>\n",
       "      <td>74.19</td>\n",
       "    </tr>\n",
       "    <tr>\n",
       "      <th>4</th>\n",
       "      <td>1.368460</td>\n",
       "      <td>1.417358</td>\n",
       "      <td>1835.5</td>\n",
       "      <td>13.526161</td>\n",
       "      <td>1.499632</td>\n",
       "      <td>0.0</td>\n",
       "      <td>0.000000</td>\n",
       "      <td>0.150781</td>\n",
       "      <td>35.10</td>\n",
       "    </tr>\n",
       "  </tbody>\n",
       "</table>\n",
       "</div>"
      ],
      "text/plain": [
       "   Water_Cement  Coarse_Fine  Aggregate  Aggregate_Cement  Slag_Cement  \\\n",
       "0      1.335664     1.503888     1610.0         11.258741     1.181818   \n",
       "1      0.642561     1.351691     1870.3          6.471626     0.466090   \n",
       "2      0.750000     1.391045     1602.0          5.269737     0.250000   \n",
       "3      1.222930     1.197389     1716.6         10.933758     1.503185   \n",
       "4      1.368460     1.417358     1835.5         13.526161     1.499632   \n",
       "\n",
       "   Ash_Cement  Plastic_Cement  Age_Water  Strength  \n",
       "0         1.0        0.055944   0.146597     23.52  \n",
       "1         0.0        0.000000   0.150781     36.96  \n",
       "2         0.0        0.000000   1.600877     39.05  \n",
       "3         0.0        0.000000   0.468750     74.19  \n",
       "4         0.0        0.000000   0.150781     35.10  "
      ]
     },
     "execution_count": 31,
     "metadata": {},
     "output_type": "execute_result"
    }
   ],
   "source": [
    "data2U.head()"
   ]
  },
  {
   "cell_type": "code",
   "execution_count": null,
   "id": "f754f2ed",
   "metadata": {
    "papermill": {
     "duration": 0.023202,
     "end_time": "2023-03-11T18:34:15.223397",
     "exception": false,
     "start_time": "2023-03-11T18:34:15.200195",
     "status": "completed"
    },
    "tags": []
   },
   "outputs": [],
   "source": []
  },
  {
   "cell_type": "code",
   "execution_count": 32,
   "id": "d2d69253",
   "metadata": {
    "execution": {
     "iopub.execute_input": "2023-03-11T18:34:15.271682Z",
     "iopub.status.busy": "2023-03-11T18:34:15.270167Z",
     "iopub.status.idle": "2023-03-11T18:34:15.278299Z",
     "shell.execute_reply": "2023-03-11T18:34:15.277324Z"
    },
    "papermill": {
     "duration": 0.034666,
     "end_time": "2023-03-11T18:34:15.281085",
     "exception": false,
     "start_time": "2023-03-11T18:34:15.246419",
     "status": "completed"
    },
    "tags": []
   },
   "outputs": [],
   "source": [
    "X = data2U.drop('Strength' ,axis =1)\n",
    "y = data2U.Strength"
   ]
  },
  {
   "cell_type": "code",
   "execution_count": 33,
   "id": "01bfd93c",
   "metadata": {
    "execution": {
     "iopub.execute_input": "2023-03-11T18:34:15.328881Z",
     "iopub.status.busy": "2023-03-11T18:34:15.327639Z",
     "iopub.status.idle": "2023-03-11T18:34:15.334384Z",
     "shell.execute_reply": "2023-03-11T18:34:15.333138Z"
    },
    "papermill": {
     "duration": 0.034418,
     "end_time": "2023-03-11T18:34:15.337338",
     "exception": false,
     "start_time": "2023-03-11T18:34:15.302920",
     "status": "completed"
    },
    "tags": []
   },
   "outputs": [],
   "source": [
    "# def objective(trial):\n",
    "#     params = {\n",
    "#         \"iterations\": trial.suggest_int(\"iterations\", 100, 1000, step=100),\n",
    "#         \"learning_rate\": trial.suggest_float(\"learning_rate\", 0.01, 0.1),\n",
    "#         \"depth\": trial.suggest_int(\"depth\", 4, 10),\n",
    "#         \"l2_leaf_reg\": trial.suggest_float(\"l2_leaf_reg\", 1e-5, 1e2, log=True),\n",
    "#         \"bagging_temperature\": trial.suggest_float(\"bagging_temperature\", 0.0, 10.0),\n",
    "#         \"border_count\": trial.suggest_int(\"border_count\", 32, 255, step=32),\n",
    "#         \"random_seed\": 42\n",
    "#     }\n",
    "    \n",
    "\n",
    "    \n",
    "#     model = CatBoostRegressor(**params, silent=True)\n",
    "\n",
    "#     model.fit(X,y)\n",
    "#     r = mean_squared_error(y, model.predict(X),squared=False)\n",
    "#     return r\n",
    "\n",
    "# study = optuna.create_study(direction='minimize')\n",
    "# study.optimize(objective, n_trials=100)\n",
    "\n",
    "# print('Best_hyperparameters: ', study.best_params)\n",
    "# print('Best_rmse: ', study.best_value)\n",
    "\n",
    "\n",
    "\n",
    "\n",
    "\n"
   ]
  },
  {
   "cell_type": "code",
   "execution_count": null,
   "id": "12aeefd1",
   "metadata": {
    "papermill": {
     "duration": 0.022891,
     "end_time": "2023-03-11T18:34:15.381701",
     "exception": false,
     "start_time": "2023-03-11T18:34:15.358810",
     "status": "completed"
    },
    "tags": []
   },
   "outputs": [],
   "source": []
  },
  {
   "cell_type": "code",
   "execution_count": 34,
   "id": "57ce64ba",
   "metadata": {
    "execution": {
     "iopub.execute_input": "2023-03-11T18:34:15.430033Z",
     "iopub.status.busy": "2023-03-11T18:34:15.428642Z",
     "iopub.status.idle": "2023-03-11T18:34:15.435305Z",
     "shell.execute_reply": "2023-03-11T18:34:15.434311Z"
    },
    "papermill": {
     "duration": 0.033206,
     "end_time": "2023-03-11T18:34:15.437818",
     "exception": false,
     "start_time": "2023-03-11T18:34:15.404612",
     "status": "completed"
    },
    "tags": []
   },
   "outputs": [],
   "source": [
    "# def objective(trial):\n",
    "#     params = {\"n_estimators\":trial.suggest_int('n_estimators', 50,1000),\n",
    "#         \"eta\": trial.suggest_float(\"eta\", 0.01, 0.3),\n",
    "#         \"max_depth\": trial.suggest_int(\"max_depth\", 3, 10),\n",
    "#         \"min_child_weight\": trial.suggest_float(\"min_child_weight\", 0.1, 10),\n",
    "#         \"subsample\": trial.suggest_float(\"subsample\", 0.5, 1.0),\n",
    "#         \"colsample_bytree\": trial.suggest_float(\"colsample_bytree\", 0.5, 1.0),\n",
    "#         \"lambda\": trial.suggest_float(\"lambda\", 0, 10),\n",
    "#         \"alpha\": trial.suggest_float(\"alpha\", 0, 10),\n",
    "#         \"random_state\": 42\n",
    "#     }\n",
    "    \n",
    "\n",
    "    \n",
    "#     model = XGBRegressor(**params, silent=True)\n",
    "\n",
    "#     model.fit(X,y)\n",
    "#     r = mean_squared_error(y, model.predict(X),squared=False)\n",
    "#     return r\n",
    "\n",
    "# study = optuna.create_study(direction='minimize')\n",
    "# study.optimize(objective, n_trials=100)\n",
    "\n",
    "# print('Best_hyperparameters: ', study.best_params)\n",
    "# print('Best_rmse: ', study.best_value)\n",
    "\n"
   ]
  },
  {
   "cell_type": "code",
   "execution_count": 35,
   "id": "517b2b34",
   "metadata": {
    "execution": {
     "iopub.execute_input": "2023-03-11T18:34:15.485269Z",
     "iopub.status.busy": "2023-03-11T18:34:15.483574Z",
     "iopub.status.idle": "2023-03-11T18:34:15.496550Z",
     "shell.execute_reply": "2023-03-11T18:34:15.495102Z"
    },
    "papermill": {
     "duration": 0.041045,
     "end_time": "2023-03-11T18:34:15.501312",
     "exception": false,
     "start_time": "2023-03-11T18:34:15.460267",
     "status": "completed"
    },
    "tags": []
   },
   "outputs": [
    {
     "data": {
      "text/plain": [
       "{'n_estimators': 741,\n",
       " 'eta': 0.23318893587533493,\n",
       " 'max_depth': 10,\n",
       " 'min_child_weight': 0.7479744834220452,\n",
       " 'subsample': 0.9848210493362,\n",
       " 'colsample_bytree': 0.9169271670669533,\n",
       " 'lambda': 9.967170487838125,\n",
       " 'alpha': 0.5815144453300983}"
      ]
     },
     "execution_count": 35,
     "metadata": {},
     "output_type": "execute_result"
    }
   ],
   "source": [
    "{'n_estimators': 741, 'eta': 0.23318893587533493, 'max_depth': 10, 'min_child_weight': 0.7479744834220452, 'subsample': 0.9848210493362, 'colsample_bytree': 0.9169271670669533, 'lambda': 9.967170487838125, 'alpha': 0.5815144453300983}"
   ]
  },
  {
   "cell_type": "code",
   "execution_count": 36,
   "id": "12c4ff77",
   "metadata": {
    "execution": {
     "iopub.execute_input": "2023-03-11T18:34:15.551745Z",
     "iopub.status.busy": "2023-03-11T18:34:15.551292Z",
     "iopub.status.idle": "2023-03-11T18:34:15.559918Z",
     "shell.execute_reply": "2023-03-11T18:34:15.558132Z"
    },
    "papermill": {
     "duration": 0.036723,
     "end_time": "2023-03-11T18:34:15.563672",
     "exception": false,
     "start_time": "2023-03-11T18:34:15.526949",
     "status": "completed"
    },
    "tags": []
   },
   "outputs": [],
   "source": [
    "# def objective(trial):\n",
    "#     params = {\"n_estimators\":trial.suggest_int('n_estimators', 50,1000),\n",
    "#         \"objective\": \"regression\",\n",
    "#         \"learning_rate\": trial.suggest_float(\"learning_rate\", 0.01, 0.3),\n",
    "#         \"max_depth\": trial.suggest_int(\"max_depth\", 3, 10),\n",
    "#         \"num_leaves\": trial.suggest_int(\"num_leaves\", 10, 1000),\n",
    "#         \"feature_fraction\": trial.suggest_float(\"feature_fraction\", 0.5, 1.0),\n",
    "#         \"bagging_fraction\": trial.suggest_float(\"bagging_fraction\", 0.5, 1.0),\n",
    "#         \"lambda_l1\": trial.suggest_float(\"lambda_l1\", 0, 10),\n",
    "#         \"lambda_l2\": trial.suggest_float(\"lambda_l2\", 0, 10),\n",
    "#         \"random_state\": 42\n",
    "#     }\n",
    "    \n",
    "\n",
    "    \n",
    "#     model = LGBMRegressor(**params, silent=True)\n",
    "\n",
    "#     model.fit(X,y)\n",
    "#     r = mean_squared_error(y, model.predict(X),squared=False)\n",
    "#     return r\n",
    "\n",
    "# study = optuna.create_study(direction='minimize')\n",
    "# study.optimize(objective, n_trials=100)\n",
    "\n",
    "# print('Best_hyperparameters: ', study.best_params)\n",
    "# print('Best_rmse: ', study.best_value)\n"
   ]
  },
  {
   "cell_type": "code",
   "execution_count": null,
   "id": "dbe1610f",
   "metadata": {
    "papermill": {
     "duration": 0.021975,
     "end_time": "2023-03-11T18:34:15.606611",
     "exception": false,
     "start_time": "2023-03-11T18:34:15.584636",
     "status": "completed"
    },
    "tags": []
   },
   "outputs": [],
   "source": []
  },
  {
   "cell_type": "code",
   "execution_count": 37,
   "id": "7400ef59",
   "metadata": {
    "execution": {
     "iopub.execute_input": "2023-03-11T18:34:15.656602Z",
     "iopub.status.busy": "2023-03-11T18:34:15.656020Z",
     "iopub.status.idle": "2023-03-11T18:34:15.667384Z",
     "shell.execute_reply": "2023-03-11T18:34:15.665211Z"
    },
    "papermill": {
     "duration": 0.040957,
     "end_time": "2023-03-11T18:34:15.670756",
     "exception": false,
     "start_time": "2023-03-11T18:34:15.629799",
     "status": "completed"
    },
    "tags": []
   },
   "outputs": [],
   "source": [
    "CAT_Best_hyperparameters ={'iterations': 900, 'learning_rate': 0.09989665806720584, 'depth': 10, 'l2_leaf_reg': 0.12515936923082566, 'bagging_temperature': 2.148481928571176, 'border_count': 192}\n",
    "# Best_rmse:  6.687477074255536\n",
    "    \n",
    "    \n",
    "\n",
    "XGB_Best_hyperparameters = {'n_estimators': 741, 'eta': 0.23318893587533493, 'max_depth': 10, 'min_child_weight': 0.7479744834220452, 'subsample': 0.9848210493362, 'colsample_bytree': 0.9169271670669533, 'lambda': 9.967170487838125, 'alpha': 0.5815144453300983}\n",
    "# Best_rmse:  6.614808798383476\n",
    "\n",
    "\n",
    "\n",
    "\n",
    "LGBM_Best_hyperparameters =  {'n_estimators': 957, 'learning_rate': 0.2989333261566501, 'max_depth': 10, 'num_leaves': 230, 'feature_fraction': 0.986374262881006, 'bagging_fraction': 0.787372021223232, 'lambda_l1': 2.098698697133398, 'lambda_l2': 1.953316278280273}\n",
    "# Best_rmse:  6.695536758539405"
   ]
  },
  {
   "cell_type": "code",
   "execution_count": 38,
   "id": "a0a6d32b",
   "metadata": {
    "execution": {
     "iopub.execute_input": "2023-03-11T18:34:15.717759Z",
     "iopub.status.busy": "2023-03-11T18:34:15.717318Z",
     "iopub.status.idle": "2023-03-11T18:34:44.343505Z",
     "shell.execute_reply": "2023-03-11T18:34:44.341835Z"
    },
    "papermill": {
     "duration": 28.652835,
     "end_time": "2023-03-11T18:34:44.346340",
     "exception": false,
     "start_time": "2023-03-11T18:34:15.693505",
     "status": "completed"
    },
    "tags": []
   },
   "outputs": [
    {
     "name": "stdout",
     "output_type": "stream",
     "text": [
      "[LightGBM] [Warning] lambda_l1 is set=2.098698697133398, reg_alpha=0.0 will be ignored. Current value: lambda_l1=2.098698697133398\n",
      "[LightGBM] [Warning] feature_fraction is set=0.986374262881006, colsample_bytree=1.0 will be ignored. Current value: feature_fraction=0.986374262881006\n",
      "[LightGBM] [Warning] lambda_l2 is set=1.953316278280273, reg_lambda=0.0 will be ignored. Current value: lambda_l2=1.953316278280273\n",
      "[LightGBM] [Warning] bagging_fraction is set=0.787372021223232, subsample=1.0 will be ignored. Current value: bagging_fraction=0.787372021223232\n"
     ]
    },
    {
     "data": {
      "text/plain": [
       "XGBRegressor(alpha=0.5815144453300983, base_score=0.5, booster='gbtree',\n",
       "             callbacks=None, colsample_bylevel=1, colsample_bynode=1,\n",
       "             colsample_bytree=0.9169271670669533, early_stopping_rounds=None,\n",
       "             enable_categorical=False, eta=0.23318893587533493,\n",
       "             eval_metric=None, gamma=0, gpu_id=-1, grow_policy='depthwise',\n",
       "             importance_type=None, interaction_constraints='',\n",
       "             lambda=9.967170487838125, learning_rate=0.233188942, max_bin=256,\n",
       "             max_cat_to_onehot=4, max_delta_step=0, max_depth=10, max_leaves=0,\n",
       "             min_child_weight=0.7479744834220452, missing=nan,\n",
       "             monotone_constraints='()', n_estimators=741, n_jobs=0,\n",
       "             num_parallel_tree=1, predictor='auto', ...)"
      ]
     },
     "execution_count": 38,
     "metadata": {},
     "output_type": "execute_result"
    }
   ],
   "source": [
    "lgb_data2 = LGBMRegressor(**LGBM_Best_hyperparameters)\n",
    "lgb_data2.fit(X,y)\n",
    "cat_data2 = CatBoostRegressor(**CAT_Best_hyperparameters,silent=True)\n",
    "cat_data2.fit(X,y)\n",
    "xgb_data2 = XGBRegressor(**XGB_Best_hyperparameters)\n",
    "xgb_data2.fit(X,y)\n"
   ]
  },
  {
   "cell_type": "code",
   "execution_count": 39,
   "id": "2aec9e11",
   "metadata": {
    "execution": {
     "iopub.execute_input": "2023-03-11T18:34:44.391664Z",
     "iopub.status.busy": "2023-03-11T18:34:44.391107Z",
     "iopub.status.idle": "2023-03-11T18:34:44.820089Z",
     "shell.execute_reply": "2023-03-11T18:34:44.818284Z"
    },
    "papermill": {
     "duration": 0.455581,
     "end_time": "2023-03-11T18:34:44.823431",
     "exception": false,
     "start_time": "2023-03-11T18:34:44.367850",
     "status": "completed"
    },
    "tags": []
   },
   "outputs": [],
   "source": [
    "data2_stack = pd.DataFrame()\n",
    "data2_stack['lgb'] = lgb_data2.predict(X)\n",
    "data2_stack['cat'] = cat_data2.predict(X)\n",
    "data2_stack['xgb'] = xgb_data2.predict(X)\n",
    "data2_stack['original'] = y\n"
   ]
  },
  {
   "cell_type": "code",
   "execution_count": 40,
   "id": "4d5860b5",
   "metadata": {
    "execution": {
     "iopub.execute_input": "2023-03-11T18:34:44.874309Z",
     "iopub.status.busy": "2023-03-11T18:34:44.873744Z",
     "iopub.status.idle": "2023-03-11T18:34:44.890856Z",
     "shell.execute_reply": "2023-03-11T18:34:44.889458Z"
    },
    "papermill": {
     "duration": 0.045654,
     "end_time": "2023-03-11T18:34:44.893955",
     "exception": false,
     "start_time": "2023-03-11T18:34:44.848301",
     "status": "completed"
    },
    "tags": []
   },
   "outputs": [
    {
     "data": {
      "text/html": [
       "<div>\n",
       "<style scoped>\n",
       "    .dataframe tbody tr th:only-of-type {\n",
       "        vertical-align: middle;\n",
       "    }\n",
       "\n",
       "    .dataframe tbody tr th {\n",
       "        vertical-align: top;\n",
       "    }\n",
       "\n",
       "    .dataframe thead th {\n",
       "        text-align: right;\n",
       "    }\n",
       "</style>\n",
       "<table border=\"1\" class=\"dataframe\">\n",
       "  <thead>\n",
       "    <tr style=\"text-align: right;\">\n",
       "      <th></th>\n",
       "      <th>lgb</th>\n",
       "      <th>cat</th>\n",
       "      <th>xgb</th>\n",
       "      <th>original</th>\n",
       "    </tr>\n",
       "  </thead>\n",
       "  <tbody>\n",
       "    <tr>\n",
       "      <th>0</th>\n",
       "      <td>24.075671</td>\n",
       "      <td>24.302491</td>\n",
       "      <td>23.603813</td>\n",
       "      <td>23.52</td>\n",
       "    </tr>\n",
       "    <tr>\n",
       "      <th>1</th>\n",
       "      <td>37.050015</td>\n",
       "      <td>37.320000</td>\n",
       "      <td>36.967484</td>\n",
       "      <td>36.96</td>\n",
       "    </tr>\n",
       "    <tr>\n",
       "      <th>2</th>\n",
       "      <td>40.012906</td>\n",
       "      <td>39.652308</td>\n",
       "      <td>40.345432</td>\n",
       "      <td>39.05</td>\n",
       "    </tr>\n",
       "    <tr>\n",
       "      <th>3</th>\n",
       "      <td>52.559146</td>\n",
       "      <td>52.508604</td>\n",
       "      <td>52.548042</td>\n",
       "      <td>74.19</td>\n",
       "    </tr>\n",
       "    <tr>\n",
       "      <th>4</th>\n",
       "      <td>28.630165</td>\n",
       "      <td>28.595055</td>\n",
       "      <td>28.685724</td>\n",
       "      <td>35.10</td>\n",
       "    </tr>\n",
       "  </tbody>\n",
       "</table>\n",
       "</div>"
      ],
      "text/plain": [
       "         lgb        cat        xgb  original\n",
       "0  24.075671  24.302491  23.603813     23.52\n",
       "1  37.050015  37.320000  36.967484     36.96\n",
       "2  40.012906  39.652308  40.345432     39.05\n",
       "3  52.559146  52.508604  52.548042     74.19\n",
       "4  28.630165  28.595055  28.685724     35.10"
      ]
     },
     "execution_count": 40,
     "metadata": {},
     "output_type": "execute_result"
    }
   ],
   "source": [
    "data2_stack.head()"
   ]
  },
  {
   "cell_type": "code",
   "execution_count": 41,
   "id": "61ecc9dd",
   "metadata": {
    "execution": {
     "iopub.execute_input": "2023-03-11T18:34:44.941161Z",
     "iopub.status.busy": "2023-03-11T18:34:44.940700Z",
     "iopub.status.idle": "2023-03-11T18:34:44.949604Z",
     "shell.execute_reply": "2023-03-11T18:34:44.947945Z"
    },
    "papermill": {
     "duration": 0.035983,
     "end_time": "2023-03-11T18:34:44.952327",
     "exception": false,
     "start_time": "2023-03-11T18:34:44.916344",
     "status": "completed"
    },
    "tags": []
   },
   "outputs": [],
   "source": [
    "X = data2_stack.drop('original' ,axis = 1)\n",
    "y = data2_stack.original"
   ]
  },
  {
   "cell_type": "code",
   "execution_count": 42,
   "id": "19e36d92",
   "metadata": {
    "execution": {
     "iopub.execute_input": "2023-03-11T18:34:45.000435Z",
     "iopub.status.busy": "2023-03-11T18:34:44.999920Z",
     "iopub.status.idle": "2023-03-11T18:34:45.005325Z",
     "shell.execute_reply": "2023-03-11T18:34:45.004399Z"
    },
    "papermill": {
     "duration": 0.032154,
     "end_time": "2023-03-11T18:34:45.007885",
     "exception": false,
     "start_time": "2023-03-11T18:34:44.975731",
     "status": "completed"
    },
    "tags": []
   },
   "outputs": [],
   "source": [
    "# def objective(trial):\n",
    "#     params = {\n",
    "#         \"iterations\": trial.suggest_int(\"iterations\", 100, 1000, step=100),\n",
    "#         \"learning_rate\": trial.suggest_float(\"learning_rate\", 0.01, 0.1),\n",
    "#         \"depth\": trial.suggest_int(\"depth\", 4, 10),\n",
    "#         \"l2_leaf_reg\": trial.suggest_float(\"l2_leaf_reg\", 1e-5, 1e2, log=True),\n",
    "#         \"bagging_temperature\": trial.suggest_float(\"bagging_temperature\", 0.0, 10.0),\n",
    "#         \"border_count\": trial.suggest_int(\"border_count\", 32, 255, step=32),\n",
    "#         \"random_seed\": 42\n",
    "#     }\n",
    "    \n",
    "\n",
    "    \n",
    "#     model = CatBoostRegressor(**params, silent=True)\n",
    "\n",
    "#     model.fit(X,y)\n",
    "#     r = mean_squared_error(y, model.predict(X),squared=False)\n",
    "#     return r\n",
    "\n",
    "# study = optuna.create_study(direction='minimize')\n",
    "# study.optimize(objective, n_trials=100)\n",
    "\n",
    "# print('Best_hyperparameters: ', study.best_params)\n",
    "# print('Best_rmse: ', study.best_value)\n"
   ]
  },
  {
   "cell_type": "code",
   "execution_count": 43,
   "id": "7aa38ae7",
   "metadata": {
    "execution": {
     "iopub.execute_input": "2023-03-11T18:34:45.052550Z",
     "iopub.status.busy": "2023-03-11T18:34:45.052088Z",
     "iopub.status.idle": "2023-03-11T18:34:45.057814Z",
     "shell.execute_reply": "2023-03-11T18:34:45.056773Z"
    },
    "papermill": {
     "duration": 0.031109,
     "end_time": "2023-03-11T18:34:45.060387",
     "exception": false,
     "start_time": "2023-03-11T18:34:45.029278",
     "status": "completed"
    },
    "tags": []
   },
   "outputs": [],
   "source": [
    "Best_hyperparameters:  {'iterations': 700, 'learning_rate': 0.09646300573596985, 'depth': 10, 'l2_leaf_reg': 0.026446447721406655, 'bagging_temperature': 2.472495540093936, 'border_count': 224}\n",
    "Best_rmse:  6.613897206580522"
   ]
  },
  {
   "cell_type": "code",
   "execution_count": null,
   "id": "63f4ceb2",
   "metadata": {
    "papermill": {
     "duration": 0.021515,
     "end_time": "2023-03-11T18:34:45.105596",
     "exception": false,
     "start_time": "2023-03-11T18:34:45.084081",
     "status": "completed"
    },
    "tags": []
   },
   "outputs": [],
   "source": []
  },
  {
   "cell_type": "code",
   "execution_count": 44,
   "id": "e7552550",
   "metadata": {
    "execution": {
     "iopub.execute_input": "2023-03-11T18:34:45.151084Z",
     "iopub.status.busy": "2023-03-11T18:34:45.150624Z",
     "iopub.status.idle": "2023-03-11T18:34:45.157517Z",
     "shell.execute_reply": "2023-03-11T18:34:45.156204Z"
    },
    "papermill": {
     "duration": 0.033805,
     "end_time": "2023-03-11T18:34:45.160355",
     "exception": false,
     "start_time": "2023-03-11T18:34:45.126550",
     "status": "completed"
    },
    "tags": []
   },
   "outputs": [],
   "source": [
    "\n",
    "# def objective(trial):\n",
    "#     params = {\"n_estimators\":trial.suggest_int('n_estimators', 50,1000),\n",
    "#         \"eta\": trial.suggest_float(\"eta\", 0.01, 0.3),\n",
    "#         \"max_depth\": trial.suggest_int(\"max_depth\", 3, 10),\n",
    "#         \"min_child_weight\": trial.suggest_float(\"min_child_weight\", 0.1, 10),\n",
    "#         \"subsample\": trial.suggest_float(\"subsample\", 0.5, 1.0),\n",
    "#         \"colsample_bytree\": trial.suggest_float(\"colsample_bytree\", 0.5, 1.0),\n",
    "#         \"lambda\": trial.suggest_float(\"lambda\", 0, 10),\n",
    "#         \"alpha\": trial.suggest_float(\"alpha\", 0, 10),\n",
    "#         \"random_state\": 42\n",
    "#     }\n",
    "    \n",
    "\n",
    "    \n",
    "#     model = XGBRegressor(**params, silent=True)\n",
    "\n",
    "#     model.fit(X,y)\n",
    "#     r = mean_squared_error(y, model.predict(X),squared=False)\n",
    "#     return r\n",
    "\n",
    "# study = optuna.create_study(direction='minimize')\n",
    "# study.optimize(objective, n_trials=100)\n",
    "\n",
    "# print('Best_hyperparameters: ', study.best_params)\n",
    "# print('Best_rmse: ', study.best_value)"
   ]
  },
  {
   "cell_type": "code",
   "execution_count": null,
   "id": "8e15c877",
   "metadata": {
    "papermill": {
     "duration": 0.021678,
     "end_time": "2023-03-11T18:34:45.204176",
     "exception": false,
     "start_time": "2023-03-11T18:34:45.182498",
     "status": "completed"
    },
    "tags": []
   },
   "outputs": [],
   "source": []
  },
  {
   "cell_type": "code",
   "execution_count": 45,
   "id": "e73846f9",
   "metadata": {
    "execution": {
     "iopub.execute_input": "2023-03-11T18:34:45.248685Z",
     "iopub.status.busy": "2023-03-11T18:34:45.248231Z",
     "iopub.status.idle": "2023-03-11T18:34:45.255334Z",
     "shell.execute_reply": "2023-03-11T18:34:45.253744Z"
    },
    "papermill": {
     "duration": 0.032746,
     "end_time": "2023-03-11T18:34:45.258294",
     "exception": false,
     "start_time": "2023-03-11T18:34:45.225548",
     "status": "completed"
    },
    "tags": []
   },
   "outputs": [],
   "source": [
    "# # # Coefficient Optimizing\n",
    "# # def obj(a,b,c):\n",
    "# #     pred = data2_stack['lgb']*a +data2_stack['cat']*b +data2_stack['xgb']*c\n",
    "    \n",
    "# #     rmse = mean_squared_error(data2_stack.original , pred ,squared=False)\n",
    "    \n",
    "# #     return -rmse\n",
    "\n",
    "# # optimizer = BayesianOptimization(f = obj ,pbounds={'a':(0,1),\n",
    "# #                                                   'b':(0,1),\n",
    "# #                                                   'c':(0,1)} ,allow_duplicate_points=True )\n",
    "# # optimizer.maximize(init_points=10,n_iter=100)\n",
    "\n",
    "# # print(\"best_value\" , optimizer.max)\n",
    "\n",
    "\n",
    "\n",
    "\n",
    "\n",
    "\n",
    "\n",
    "\n",
    "\n",
    "# def objective(trial):\n",
    "#     params = {\"n_estimators\":trial.suggest_int('n_estimators', 50,1000),\n",
    "#         \"objective\": \"regression\",\n",
    "#         \"learning_rate\": trial.suggest_float(\"learning_rate\", 0.01, 0.3),\n",
    "#         \"max_depth\": trial.suggest_int(\"max_depth\", 3, 10),\n",
    "#         \"num_leaves\": trial.suggest_int(\"num_leaves\", 10, 1000),\n",
    "#         \"feature_fraction\": trial.suggest_float(\"feature_fraction\", 0.5, 1.0),\n",
    "#         \"bagging_fraction\": trial.suggest_float(\"bagging_fraction\", 0.5, 1.0),\n",
    "#         \"lambda_l1\": trial.suggest_float(\"lambda_l1\", 0, 10),\n",
    "#         \"lambda_l2\": trial.suggest_float(\"lambda_l2\", 0, 10),\n",
    "#         \"random_state\": 42\n",
    "#     }\n",
    "    \n",
    "\n",
    "    \n",
    "#     model = LGBMRegressor(**params, silent=True)\n",
    "\n",
    "#     model.fit(X,y)\n",
    "#     r = mean_squared_error(y, model.predict(X),squared=False)\n",
    "#     return r\n",
    "\n",
    "# study = optuna.create_study(direction='minimize')\n",
    "# study.optimize(objective, n_trials=100)\n",
    "\n",
    "# print('Best_hyperparameters: ', study.best_params)\n",
    "# print('Best_rmse: ', study.best_value)\n",
    "\n",
    "\n",
    "\n"
   ]
  },
  {
   "cell_type": "code",
   "execution_count": 46,
   "id": "59f62d40",
   "metadata": {
    "execution": {
     "iopub.execute_input": "2023-03-11T18:34:45.305177Z",
     "iopub.status.busy": "2023-03-11T18:34:45.304712Z",
     "iopub.status.idle": "2023-03-11T18:34:45.311582Z",
     "shell.execute_reply": "2023-03-11T18:34:45.309972Z"
    },
    "papermill": {
     "duration": 0.033049,
     "end_time": "2023-03-11T18:34:45.314165",
     "exception": false,
     "start_time": "2023-03-11T18:34:45.281116",
     "status": "completed"
    },
    "tags": []
   },
   "outputs": [],
   "source": [
    "{'n_estimators': 883, 'eta': 0.1414457248411872, 'max_depth': 10, 'min_child_weight': 7.334263059494213, 'subsample': 0.9995394981805414, 'colsample_bytree': 0.7165431578112451, 'lambda': 4.205836994720299, 'alpha': 0.0034839668675774593}\n",
    "Best_rmse:  6.612928783491534"
   ]
  },
  {
   "cell_type": "code",
   "execution_count": 47,
   "id": "9ae775aa",
   "metadata": {
    "execution": {
     "iopub.execute_input": "2023-03-11T18:34:45.359104Z",
     "iopub.status.busy": "2023-03-11T18:34:45.358665Z",
     "iopub.status.idle": "2023-03-11T18:34:45.365350Z",
     "shell.execute_reply": "2023-03-11T18:34:45.363646Z"
    },
    "papermill": {
     "duration": 0.032082,
     "end_time": "2023-03-11T18:34:45.367880",
     "exception": false,
     "start_time": "2023-03-11T18:34:45.335798",
     "status": "completed"
    },
    "tags": []
   },
   "outputs": [],
   "source": [
    "Best_hyperparameters:  {'n_estimators': 924, 'learning_rate': 0.17638618844678497, 'max_depth': 8, 'num_leaves': 855, 'feature_fraction': 0.5127943139589903, 'bagging_fraction': 0.6523624031748408, 'lambda_l1': 0.06308512186880688, 'lambda_l2': 8.055363150449166}\n",
    "Best_rmse:  6.615807850217292"
   ]
  },
  {
   "cell_type": "code",
   "execution_count": 48,
   "id": "c2d3ff2c",
   "metadata": {
    "execution": {
     "iopub.execute_input": "2023-03-11T18:34:45.413259Z",
     "iopub.status.busy": "2023-03-11T18:34:45.412798Z",
     "iopub.status.idle": "2023-03-11T18:34:45.418950Z",
     "shell.execute_reply": "2023-03-11T18:34:45.416988Z"
    },
    "papermill": {
     "duration": 0.032232,
     "end_time": "2023-03-11T18:34:45.421883",
     "exception": false,
     "start_time": "2023-03-11T18:34:45.389651",
     "status": "completed"
    },
    "tags": []
   },
   "outputs": [],
   "source": [
    "# COefficient_opitmized\n",
    "# best_value  = { 'params': {'a': 0.2035611442458889, 'b': 0.0028528344055466226, 'c': 0.7894776034220363}}\n",
    "# 'target': -6.623851050856059,"
   ]
  },
  {
   "cell_type": "code",
   "execution_count": 49,
   "id": "eab8b0e6",
   "metadata": {
    "execution": {
     "iopub.execute_input": "2023-03-11T18:34:45.468103Z",
     "iopub.status.busy": "2023-03-11T18:34:45.467619Z",
     "iopub.status.idle": "2023-03-11T18:34:45.477440Z",
     "shell.execute_reply": "2023-03-11T18:34:45.476031Z"
    },
    "papermill": {
     "duration": 0.036795,
     "end_time": "2023-03-11T18:34:45.479987",
     "exception": false,
     "start_time": "2023-03-11T18:34:45.443192",
     "status": "completed"
    },
    "tags": []
   },
   "outputs": [
    {
     "data": {
      "text/plain": [
       "{'iterations': 1000,\n",
       " 'learning_rate': 0.09967161752105742,\n",
       " 'depth': 10,\n",
       " 'l2_leaf_reg': 0.000387618420532532,\n",
       " 'bagging_temperature': 7.089621677091551,\n",
       " 'border_count': 224}"
      ]
     },
     "execution_count": 49,
     "metadata": {},
     "output_type": "execute_result"
    }
   ],
   "source": [
    "{'iterations': 1000, 'learning_rate': 0.09967161752105742, 'depth': 10, 'l2_leaf_reg': 0.000387618420532532, 'bagging_temperature': 7.089621677091551, 'border_count': 224}"
   ]
  },
  {
   "cell_type": "code",
   "execution_count": 50,
   "id": "a9f874b2",
   "metadata": {
    "execution": {
     "iopub.execute_input": "2023-03-11T18:34:45.525851Z",
     "iopub.status.busy": "2023-03-11T18:34:45.525429Z",
     "iopub.status.idle": "2023-03-11T18:34:45.532557Z",
     "shell.execute_reply": "2023-03-11T18:34:45.530962Z"
    },
    "papermill": {
     "duration": 0.034,
     "end_time": "2023-03-11T18:34:45.535338",
     "exception": false,
     "start_time": "2023-03-11T18:34:45.501338",
     "status": "completed"
    },
    "tags": []
   },
   "outputs": [],
   "source": [
    "# CAT_Best_final_hyperparameters = {'iterations': 1000, 'learning_rate': 0.09247625220898988, 'depth': 10, 'l2_leaf_reg': 0.00025289581186112894, 'bagging_temperature': 1.5502200957469692, 'border_count': 224}\n",
    "# Best_rmse:  6.613816650116042\n",
    "    \n",
    "    \n",
    "XGB_Best_hyperparameters =  {'n_estimators': 883, 'eta': 0.1414457248411872, 'max_depth': 10, 'min_child_weight': 7.334263059494213, 'subsample': 0.9995394981805414, 'colsample_bytree': 0.7165431578112451, 'lambda': 4.205836994720299, 'alpha': 0.0034839668675774593}\n",
    "Best_rmse:  6.614578573571923\n",
    "    \n",
    "    \n",
    "# lgb_hyperparameters = {'n_estimators': 951, 'learning_rate': 0.2996675895657098, 'max_depth': 9, 'num_leaves': 865, 'feature_fraction': 0.8573621172448175, 'bagging_fraction': 0.7670567902072594, 'lambda_l1': 0.029622343270187684, 'lambda_l2': 2.829385931735908}\n",
    "# Best_rmse:  6.616727061010832"
   ]
  },
  {
   "cell_type": "code",
   "execution_count": 51,
   "id": "6313d27c",
   "metadata": {
    "execution": {
     "iopub.execute_input": "2023-03-11T18:34:45.581588Z",
     "iopub.status.busy": "2023-03-11T18:34:45.581164Z",
     "iopub.status.idle": "2023-03-11T18:34:45.594465Z",
     "shell.execute_reply": "2023-03-11T18:34:45.592960Z"
    },
    "papermill": {
     "duration": 0.039404,
     "end_time": "2023-03-11T18:34:45.597241",
     "exception": false,
     "start_time": "2023-03-11T18:34:45.557837",
     "status": "completed"
    },
    "tags": []
   },
   "outputs": [
    {
     "data": {
      "text/html": [
       "<div>\n",
       "<style scoped>\n",
       "    .dataframe tbody tr th:only-of-type {\n",
       "        vertical-align: middle;\n",
       "    }\n",
       "\n",
       "    .dataframe tbody tr th {\n",
       "        vertical-align: top;\n",
       "    }\n",
       "\n",
       "    .dataframe thead th {\n",
       "        text-align: right;\n",
       "    }\n",
       "</style>\n",
       "<table border=\"1\" class=\"dataframe\">\n",
       "  <thead>\n",
       "    <tr style=\"text-align: right;\">\n",
       "      <th></th>\n",
       "      <th>lgb</th>\n",
       "      <th>cat</th>\n",
       "      <th>xgb</th>\n",
       "    </tr>\n",
       "  </thead>\n",
       "  <tbody>\n",
       "    <tr>\n",
       "      <th>0</th>\n",
       "      <td>24.075671</td>\n",
       "      <td>24.302491</td>\n",
       "      <td>23.603813</td>\n",
       "    </tr>\n",
       "    <tr>\n",
       "      <th>1</th>\n",
       "      <td>37.050015</td>\n",
       "      <td>37.320000</td>\n",
       "      <td>36.967484</td>\n",
       "    </tr>\n",
       "  </tbody>\n",
       "</table>\n",
       "</div>"
      ],
      "text/plain": [
       "         lgb        cat        xgb\n",
       "0  24.075671  24.302491  23.603813\n",
       "1  37.050015  37.320000  36.967484"
      ]
     },
     "execution_count": 51,
     "metadata": {},
     "output_type": "execute_result"
    }
   ],
   "source": [
    "X.head(2)"
   ]
  },
  {
   "cell_type": "code",
   "execution_count": 52,
   "id": "7727846e",
   "metadata": {
    "execution": {
     "iopub.execute_input": "2023-03-11T18:34:45.644515Z",
     "iopub.status.busy": "2023-03-11T18:34:45.644108Z",
     "iopub.status.idle": "2023-03-11T18:34:50.764381Z",
     "shell.execute_reply": "2023-03-11T18:34:50.763181Z"
    },
    "papermill": {
     "duration": 5.147338,
     "end_time": "2023-03-11T18:34:50.767204",
     "exception": false,
     "start_time": "2023-03-11T18:34:45.619866",
     "status": "completed"
    },
    "tags": []
   },
   "outputs": [
    {
     "data": {
      "text/plain": [
       "XGBRegressor(alpha=0.0034839668675774593, base_score=0.5, booster='gbtree',\n",
       "             callbacks=None, colsample_bylevel=1, colsample_bynode=1,\n",
       "             colsample_bytree=0.7165431578112451, early_stopping_rounds=None,\n",
       "             enable_categorical=False, eta=0.1414457248411872, eval_metric=None,\n",
       "             gamma=0, gpu_id=-1, grow_policy='depthwise', importance_type=None,\n",
       "             interaction_constraints='', lambda=4.205836994720299,\n",
       "             learning_rate=0.141445726, max_bin=256, max_cat_to_onehot=4,\n",
       "             max_delta_step=0, max_depth=10, max_leaves=0,\n",
       "             min_child_weight=7.334263059494213, missing=nan,\n",
       "             monotone_constraints='()', n_estimators=883, n_jobs=0,\n",
       "             num_parallel_tree=1, predictor='auto', ...)"
      ]
     },
     "execution_count": 52,
     "metadata": {},
     "output_type": "execute_result"
    }
   ],
   "source": [
    "FINAL_CAT = XGBRegressor(**XGB_Best_hyperparameters)\n",
    "FINAL_CAT.fit(X,y)"
   ]
  },
  {
   "cell_type": "markdown",
   "id": "20e90861",
   "metadata": {
    "papermill": {
     "duration": 0.02253,
     "end_time": "2023-03-11T18:34:50.812414",
     "exception": false,
     "start_time": "2023-03-11T18:34:50.789884",
     "status": "completed"
    },
    "tags": []
   },
   "source": [
    "# Prediction on Test"
   ]
  },
  {
   "cell_type": "code",
   "execution_count": 53,
   "id": "17a91e5d",
   "metadata": {
    "execution": {
     "iopub.execute_input": "2023-03-11T18:34:50.859208Z",
     "iopub.status.busy": "2023-03-11T18:34:50.858779Z",
     "iopub.status.idle": "2023-03-11T18:34:50.871950Z",
     "shell.execute_reply": "2023-03-11T18:34:50.870606Z"
    },
    "papermill": {
     "duration": 0.040842,
     "end_time": "2023-03-11T18:34:50.874952",
     "exception": false,
     "start_time": "2023-03-11T18:34:50.834110",
     "status": "completed"
    },
    "tags": []
   },
   "outputs": [],
   "source": [
    "zero_left = test[(test['BlastFurnaceSlag'] == 0) & (test['FlyAshComponent'] == 0) & (test['SuperplasticizerComponent'] == 0)]\n",
    "data2 = test.drop(zero_left.index)\n",
    "data1 = zero_left.drop(['BlastFurnaceSlag' , 'FlyAshComponent' ,'SuperplasticizerComponent'] ,axis = 1)"
   ]
  },
  {
   "cell_type": "code",
   "execution_count": 54,
   "id": "b37c289c",
   "metadata": {
    "execution": {
     "iopub.execute_input": "2023-03-11T18:34:50.921633Z",
     "iopub.status.busy": "2023-03-11T18:34:50.921209Z",
     "iopub.status.idle": "2023-03-11T18:34:50.933718Z",
     "shell.execute_reply": "2023-03-11T18:34:50.932317Z"
    },
    "papermill": {
     "duration": 0.038846,
     "end_time": "2023-03-11T18:34:50.936093",
     "exception": false,
     "start_time": "2023-03-11T18:34:50.897247",
     "status": "completed"
    },
    "tags": []
   },
   "outputs": [],
   "source": [
    "data1U = pd.DataFrame()\n",
    "data1U['Water_Cement'] = data1['WaterComponent']/data1['CementComponent']\n",
    "data1U['Coarse_Fine'] = data1['CoarseAggregateComponent']/data1['FineAggregateComponent']\n",
    "data1U['Aggregate'] = data1['CoarseAggregateComponent'] + data1['FineAggregateComponent']\n",
    "data1U['Aggregate_Cement'] = data1U['Aggregate']/data1['CementComponent']\n",
    "data1U['Age_Water'] = data1['AgeInDays']/data1['WaterComponent']"
   ]
  },
  {
   "cell_type": "code",
   "execution_count": null,
   "id": "1510764a",
   "metadata": {
    "papermill": {
     "duration": 0.021899,
     "end_time": "2023-03-11T18:34:50.980487",
     "exception": false,
     "start_time": "2023-03-11T18:34:50.958588",
     "status": "completed"
    },
    "tags": []
   },
   "outputs": [],
   "source": []
  },
  {
   "cell_type": "code",
   "execution_count": 55,
   "id": "bed2ba59",
   "metadata": {
    "execution": {
     "iopub.execute_input": "2023-03-11T18:34:51.029169Z",
     "iopub.status.busy": "2023-03-11T18:34:51.028704Z",
     "iopub.status.idle": "2023-03-11T18:34:51.047694Z",
     "shell.execute_reply": "2023-03-11T18:34:51.046409Z"
    },
    "papermill": {
     "duration": 0.045897,
     "end_time": "2023-03-11T18:34:51.050647",
     "exception": false,
     "start_time": "2023-03-11T18:34:51.004750",
     "status": "completed"
    },
    "tags": []
   },
   "outputs": [
    {
     "data": {
      "text/html": [
       "<div>\n",
       "<style scoped>\n",
       "    .dataframe tbody tr th:only-of-type {\n",
       "        vertical-align: middle;\n",
       "    }\n",
       "\n",
       "    .dataframe tbody tr th {\n",
       "        vertical-align: top;\n",
       "    }\n",
       "\n",
       "    .dataframe thead th {\n",
       "        text-align: right;\n",
       "    }\n",
       "</style>\n",
       "<table border=\"1\" class=\"dataframe\">\n",
       "  <thead>\n",
       "    <tr style=\"text-align: right;\">\n",
       "      <th></th>\n",
       "      <th>Water_Cement</th>\n",
       "      <th>Coarse_Fine</th>\n",
       "      <th>Aggregate</th>\n",
       "      <th>Aggregate_Cement</th>\n",
       "      <th>Age_Water</th>\n",
       "    </tr>\n",
       "  </thead>\n",
       "  <tbody>\n",
       "    <tr>\n",
       "      <th>1</th>\n",
       "      <td>0.625000</td>\n",
       "      <td>1.245943</td>\n",
       "      <td>1799.0</td>\n",
       "      <td>5.917763</td>\n",
       "      <td>0.036842</td>\n",
       "    </tr>\n",
       "    <tr>\n",
       "      <th>2</th>\n",
       "      <td>0.822222</td>\n",
       "      <td>1.336134</td>\n",
       "      <td>1946.0</td>\n",
       "      <td>8.648889</td>\n",
       "      <td>0.151351</td>\n",
       "    </tr>\n",
       "    <tr>\n",
       "      <th>13</th>\n",
       "      <td>0.528191</td>\n",
       "      <td>1.373295</td>\n",
       "      <td>1809.4</td>\n",
       "      <td>4.812234</td>\n",
       "      <td>1.359517</td>\n",
       "    </tr>\n",
       "    <tr>\n",
       "      <th>20</th>\n",
       "      <td>0.580060</td>\n",
       "      <td>1.185455</td>\n",
       "      <td>1803.0</td>\n",
       "      <td>5.447130</td>\n",
       "      <td>0.015625</td>\n",
       "    </tr>\n",
       "    <tr>\n",
       "      <th>21</th>\n",
       "      <td>0.483627</td>\n",
       "      <td>1.240106</td>\n",
       "      <td>1698.0</td>\n",
       "      <td>4.277078</td>\n",
       "      <td>0.015625</td>\n",
       "    </tr>\n",
       "    <tr>\n",
       "      <th>...</th>\n",
       "      <td>...</td>\n",
       "      <td>...</td>\n",
       "      <td>...</td>\n",
       "      <td>...</td>\n",
       "      <td>...</td>\n",
       "    </tr>\n",
       "    <tr>\n",
       "      <th>3595</th>\n",
       "      <td>0.480000</td>\n",
       "      <td>1.569024</td>\n",
       "      <td>1526.0</td>\n",
       "      <td>3.212632</td>\n",
       "      <td>1.184211</td>\n",
       "    </tr>\n",
       "    <tr>\n",
       "      <th>3596</th>\n",
       "      <td>0.580060</td>\n",
       "      <td>1.185455</td>\n",
       "      <td>1803.0</td>\n",
       "      <td>5.447130</td>\n",
       "      <td>0.468750</td>\n",
       "    </tr>\n",
       "    <tr>\n",
       "      <th>3597</th>\n",
       "      <td>0.619355</td>\n",
       "      <td>1.219277</td>\n",
       "      <td>1842.0</td>\n",
       "      <td>5.941935</td>\n",
       "      <td>0.036458</td>\n",
       "    </tr>\n",
       "    <tr>\n",
       "      <th>3598</th>\n",
       "      <td>0.550143</td>\n",
       "      <td>1.299007</td>\n",
       "      <td>1853.0</td>\n",
       "      <td>5.309456</td>\n",
       "      <td>0.468750</td>\n",
       "    </tr>\n",
       "    <tr>\n",
       "      <th>3601</th>\n",
       "      <td>0.661922</td>\n",
       "      <td>1.426357</td>\n",
       "      <td>1878.0</td>\n",
       "      <td>6.683274</td>\n",
       "      <td>0.150538</td>\n",
       "    </tr>\n",
       "  </tbody>\n",
       "</table>\n",
       "<p>1429 rows × 5 columns</p>\n",
       "</div>"
      ],
      "text/plain": [
       "      Water_Cement  Coarse_Fine  Aggregate  Aggregate_Cement  Age_Water\n",
       "1         0.625000     1.245943     1799.0          5.917763   0.036842\n",
       "2         0.822222     1.336134     1946.0          8.648889   0.151351\n",
       "13        0.528191     1.373295     1809.4          4.812234   1.359517\n",
       "20        0.580060     1.185455     1803.0          5.447130   0.015625\n",
       "21        0.483627     1.240106     1698.0          4.277078   0.015625\n",
       "...            ...          ...        ...               ...        ...\n",
       "3595      0.480000     1.569024     1526.0          3.212632   1.184211\n",
       "3596      0.580060     1.185455     1803.0          5.447130   0.468750\n",
       "3597      0.619355     1.219277     1842.0          5.941935   0.036458\n",
       "3598      0.550143     1.299007     1853.0          5.309456   0.468750\n",
       "3601      0.661922     1.426357     1878.0          6.683274   0.150538\n",
       "\n",
       "[1429 rows x 5 columns]"
      ]
     },
     "execution_count": 55,
     "metadata": {},
     "output_type": "execute_result"
    }
   ],
   "source": [
    "data1U.iloc[:,:5]"
   ]
  },
  {
   "cell_type": "code",
   "execution_count": 56,
   "id": "af63b687",
   "metadata": {
    "execution": {
     "iopub.execute_input": "2023-03-11T18:34:51.103216Z",
     "iopub.status.busy": "2023-03-11T18:34:51.101835Z",
     "iopub.status.idle": "2023-03-11T18:34:51.333693Z",
     "shell.execute_reply": "2023-03-11T18:34:51.332493Z"
    },
    "papermill": {
     "duration": 0.263598,
     "end_time": "2023-03-11T18:34:51.336513",
     "exception": false,
     "start_time": "2023-03-11T18:34:51.072915",
     "status": "completed"
    },
    "tags": []
   },
   "outputs": [],
   "source": [
    "data1U['lgb'] = lgb_data1.predict(data1U.iloc[:,:5])\n",
    "data1U['cat']  = cat_data1.predict(data1U.iloc[:,:5])\n",
    "data1U['xgb'] = xgb_data1.predict(data1U.iloc[:,:5])\n",
    "data1U['final'] = XGB_final_data1.predict(data1U[['lgb','cat','xgb']])"
   ]
  },
  {
   "cell_type": "code",
   "execution_count": 57,
   "id": "eaf5ccdc",
   "metadata": {
    "execution": {
     "iopub.execute_input": "2023-03-11T18:34:51.384765Z",
     "iopub.status.busy": "2023-03-11T18:34:51.383380Z",
     "iopub.status.idle": "2023-03-11T18:34:51.400910Z",
     "shell.execute_reply": "2023-03-11T18:34:51.399819Z"
    },
    "papermill": {
     "duration": 0.044951,
     "end_time": "2023-03-11T18:34:51.403805",
     "exception": false,
     "start_time": "2023-03-11T18:34:51.358854",
     "status": "completed"
    },
    "tags": []
   },
   "outputs": [],
   "source": [
    "data2U = pd.DataFrame()\n",
    "\n",
    "data2U['Water_Cement'] = data2['WaterComponent']/data2['CementComponent']\n",
    "data2U['Coarse_Fine'] = data2['CoarseAggregateComponent']/data2['FineAggregateComponent']\n",
    "data2U['Aggregate'] = data2['CoarseAggregateComponent'] + data2['FineAggregateComponent']\n",
    "data2U['Aggregate_Cement'] = data2U['Aggregate']/data2['CementComponent']\n",
    "data2U['Slag_Cement'] = data2['BlastFurnaceSlag']/data2['CementComponent']\n",
    "data2U['Ash_Cement'] = data2['FlyAshComponent']/data2['CementComponent']\n",
    "data2U['Plastic_Cement'] = data2['SuperplasticizerComponent']/data2['CementComponent']\n",
    "data2U['Age_Water'] = data2['AgeInDays']/data2['WaterComponent']\n",
    "# data2U['Strength'] = data2.Strength\n"
   ]
  },
  {
   "cell_type": "code",
   "execution_count": 58,
   "id": "a4058e32",
   "metadata": {
    "execution": {
     "iopub.execute_input": "2023-03-11T18:34:51.449922Z",
     "iopub.status.busy": "2023-03-11T18:34:51.449403Z",
     "iopub.status.idle": "2023-03-11T18:34:51.468162Z",
     "shell.execute_reply": "2023-03-11T18:34:51.466786Z"
    },
    "papermill": {
     "duration": 0.044985,
     "end_time": "2023-03-11T18:34:51.470945",
     "exception": false,
     "start_time": "2023-03-11T18:34:51.425960",
     "status": "completed"
    },
    "tags": []
   },
   "outputs": [
    {
     "data": {
      "text/html": [
       "<div>\n",
       "<style scoped>\n",
       "    .dataframe tbody tr th:only-of-type {\n",
       "        vertical-align: middle;\n",
       "    }\n",
       "\n",
       "    .dataframe tbody tr th {\n",
       "        vertical-align: top;\n",
       "    }\n",
       "\n",
       "    .dataframe thead th {\n",
       "        text-align: right;\n",
       "    }\n",
       "</style>\n",
       "<table border=\"1\" class=\"dataframe\">\n",
       "  <thead>\n",
       "    <tr style=\"text-align: right;\">\n",
       "      <th></th>\n",
       "      <th>Water_Cement</th>\n",
       "      <th>Coarse_Fine</th>\n",
       "      <th>Aggregate</th>\n",
       "      <th>Aggregate_Cement</th>\n",
       "      <th>Slag_Cement</th>\n",
       "      <th>Ash_Cement</th>\n",
       "      <th>Plastic_Cement</th>\n",
       "      <th>Age_Water</th>\n",
       "    </tr>\n",
       "  </thead>\n",
       "  <tbody>\n",
       "    <tr>\n",
       "      <th>0</th>\n",
       "      <td>1.046358</td>\n",
       "      <td>1.349049</td>\n",
       "      <td>1753.8</td>\n",
       "      <td>10.558700</td>\n",
       "      <td>0.453943</td>\n",
       "      <td>0.986153</td>\n",
       "      <td>0.027694</td>\n",
       "      <td>0.322209</td>\n",
       "    </tr>\n",
       "    <tr>\n",
       "      <th>3</th>\n",
       "      <td>0.749801</td>\n",
       "      <td>1.357265</td>\n",
       "      <td>1786.1</td>\n",
       "      <td>7.104614</td>\n",
       "      <td>0.000000</td>\n",
       "      <td>0.470565</td>\n",
       "      <td>0.025457</td>\n",
       "      <td>0.530504</td>\n",
       "    </tr>\n",
       "    <tr>\n",
       "      <th>4</th>\n",
       "      <td>1.222222</td>\n",
       "      <td>1.440056</td>\n",
       "      <td>1730.0</td>\n",
       "      <td>12.013889</td>\n",
       "      <td>0.104167</td>\n",
       "      <td>1.354167</td>\n",
       "      <td>0.041667</td>\n",
       "      <td>0.159091</td>\n",
       "    </tr>\n",
       "    <tr>\n",
       "      <th>5</th>\n",
       "      <td>0.746468</td>\n",
       "      <td>1.053391</td>\n",
       "      <td>1623.0</td>\n",
       "      <td>6.197022</td>\n",
       "      <td>0.423826</td>\n",
       "      <td>0.334097</td>\n",
       "      <td>0.022528</td>\n",
       "      <td>0.143223</td>\n",
       "    </tr>\n",
       "    <tr>\n",
       "      <th>6</th>\n",
       "      <td>1.160000</td>\n",
       "      <td>1.581361</td>\n",
       "      <td>1745.0</td>\n",
       "      <td>11.633333</td>\n",
       "      <td>0.000000</td>\n",
       "      <td>0.000000</td>\n",
       "      <td>0.016667</td>\n",
       "      <td>0.160920</td>\n",
       "    </tr>\n",
       "  </tbody>\n",
       "</table>\n",
       "</div>"
      ],
      "text/plain": [
       "   Water_Cement  Coarse_Fine  Aggregate  Aggregate_Cement  Slag_Cement  \\\n",
       "0      1.046358     1.349049     1753.8         10.558700     0.453943   \n",
       "3      0.749801     1.357265     1786.1          7.104614     0.000000   \n",
       "4      1.222222     1.440056     1730.0         12.013889     0.104167   \n",
       "5      0.746468     1.053391     1623.0          6.197022     0.423826   \n",
       "6      1.160000     1.581361     1745.0         11.633333     0.000000   \n",
       "\n",
       "   Ash_Cement  Plastic_Cement  Age_Water  \n",
       "0    0.986153        0.027694   0.322209  \n",
       "3    0.470565        0.025457   0.530504  \n",
       "4    1.354167        0.041667   0.159091  \n",
       "5    0.334097        0.022528   0.143223  \n",
       "6    0.000000        0.016667   0.160920  "
      ]
     },
     "execution_count": 58,
     "metadata": {},
     "output_type": "execute_result"
    }
   ],
   "source": [
    "data2U.head()"
   ]
  },
  {
   "cell_type": "code",
   "execution_count": null,
   "id": "6884c4e2",
   "metadata": {
    "papermill": {
     "duration": 0.021659,
     "end_time": "2023-03-11T18:34:51.515898",
     "exception": false,
     "start_time": "2023-03-11T18:34:51.494239",
     "status": "completed"
    },
    "tags": []
   },
   "outputs": [],
   "source": []
  },
  {
   "cell_type": "code",
   "execution_count": 59,
   "id": "58bd9dcb",
   "metadata": {
    "execution": {
     "iopub.execute_input": "2023-03-11T18:34:51.561723Z",
     "iopub.status.busy": "2023-03-11T18:34:51.561331Z",
     "iopub.status.idle": "2023-03-11T18:34:51.960754Z",
     "shell.execute_reply": "2023-03-11T18:34:51.959417Z"
    },
    "papermill": {
     "duration": 0.425828,
     "end_time": "2023-03-11T18:34:51.963757",
     "exception": false,
     "start_time": "2023-03-11T18:34:51.537929",
     "status": "completed"
    },
    "tags": []
   },
   "outputs": [],
   "source": [
    "data2U['lgb'] = lgb_data2.predict(data2U.iloc[:,:8])\n",
    "data2U['cat'] = cat_data2.predict(data2U.iloc[:,:8])\n",
    "data2U['xgb'] = xgb_data2.predict(data2U.iloc[:,:8])\n",
    "data2U['final'] = FINAL_CAT.predict(data2U[['lgb' , 'cat' ,'xgb']])"
   ]
  },
  {
   "cell_type": "code",
   "execution_count": 60,
   "id": "2b8d7596",
   "metadata": {
    "execution": {
     "iopub.execute_input": "2023-03-11T18:34:52.011329Z",
     "iopub.status.busy": "2023-03-11T18:34:52.010897Z",
     "iopub.status.idle": "2023-03-11T18:34:52.031170Z",
     "shell.execute_reply": "2023-03-11T18:34:52.029864Z"
    },
    "papermill": {
     "duration": 0.04759,
     "end_time": "2023-03-11T18:34:52.033965",
     "exception": false,
     "start_time": "2023-03-11T18:34:51.986375",
     "status": "completed"
    },
    "tags": []
   },
   "outputs": [
    {
     "data": {
      "text/html": [
       "<div>\n",
       "<style scoped>\n",
       "    .dataframe tbody tr th:only-of-type {\n",
       "        vertical-align: middle;\n",
       "    }\n",
       "\n",
       "    .dataframe tbody tr th {\n",
       "        vertical-align: top;\n",
       "    }\n",
       "\n",
       "    .dataframe thead th {\n",
       "        text-align: right;\n",
       "    }\n",
       "</style>\n",
       "<table border=\"1\" class=\"dataframe\">\n",
       "  <thead>\n",
       "    <tr style=\"text-align: right;\">\n",
       "      <th></th>\n",
       "      <th>Water_Cement</th>\n",
       "      <th>Coarse_Fine</th>\n",
       "      <th>Aggregate</th>\n",
       "      <th>Aggregate_Cement</th>\n",
       "      <th>Slag_Cement</th>\n",
       "      <th>Ash_Cement</th>\n",
       "      <th>Plastic_Cement</th>\n",
       "      <th>Age_Water</th>\n",
       "      <th>lgb</th>\n",
       "      <th>cat</th>\n",
       "      <th>xgb</th>\n",
       "      <th>final</th>\n",
       "    </tr>\n",
       "  </thead>\n",
       "  <tbody>\n",
       "    <tr>\n",
       "      <th>0</th>\n",
       "      <td>1.046358</td>\n",
       "      <td>1.349049</td>\n",
       "      <td>1753.8</td>\n",
       "      <td>10.558700</td>\n",
       "      <td>0.453943</td>\n",
       "      <td>0.986153</td>\n",
       "      <td>0.027694</td>\n",
       "      <td>0.322209</td>\n",
       "      <td>40.142840</td>\n",
       "      <td>46.451931</td>\n",
       "      <td>46.624214</td>\n",
       "      <td>45.834236</td>\n",
       "    </tr>\n",
       "    <tr>\n",
       "      <th>3</th>\n",
       "      <td>0.749801</td>\n",
       "      <td>1.357265</td>\n",
       "      <td>1786.1</td>\n",
       "      <td>7.104614</td>\n",
       "      <td>0.000000</td>\n",
       "      <td>0.470565</td>\n",
       "      <td>0.025457</td>\n",
       "      <td>0.530504</td>\n",
       "      <td>47.440228</td>\n",
       "      <td>47.639309</td>\n",
       "      <td>47.283054</td>\n",
       "      <td>46.933079</td>\n",
       "    </tr>\n",
       "    <tr>\n",
       "      <th>4</th>\n",
       "      <td>1.222222</td>\n",
       "      <td>1.440056</td>\n",
       "      <td>1730.0</td>\n",
       "      <td>12.013889</td>\n",
       "      <td>0.104167</td>\n",
       "      <td>1.354167</td>\n",
       "      <td>0.041667</td>\n",
       "      <td>0.159091</td>\n",
       "      <td>15.164180</td>\n",
       "      <td>29.534035</td>\n",
       "      <td>20.435207</td>\n",
       "      <td>19.360554</td>\n",
       "    </tr>\n",
       "    <tr>\n",
       "      <th>5</th>\n",
       "      <td>0.746468</td>\n",
       "      <td>1.053391</td>\n",
       "      <td>1623.0</td>\n",
       "      <td>6.197022</td>\n",
       "      <td>0.423826</td>\n",
       "      <td>0.334097</td>\n",
       "      <td>0.022528</td>\n",
       "      <td>0.143223</td>\n",
       "      <td>39.864393</td>\n",
       "      <td>44.440668</td>\n",
       "      <td>32.272144</td>\n",
       "      <td>33.346909</td>\n",
       "    </tr>\n",
       "    <tr>\n",
       "      <th>6</th>\n",
       "      <td>1.160000</td>\n",
       "      <td>1.581361</td>\n",
       "      <td>1745.0</td>\n",
       "      <td>11.633333</td>\n",
       "      <td>0.000000</td>\n",
       "      <td>0.000000</td>\n",
       "      <td>0.016667</td>\n",
       "      <td>0.160920</td>\n",
       "      <td>14.074184</td>\n",
       "      <td>30.816081</td>\n",
       "      <td>26.309036</td>\n",
       "      <td>23.780430</td>\n",
       "    </tr>\n",
       "  </tbody>\n",
       "</table>\n",
       "</div>"
      ],
      "text/plain": [
       "   Water_Cement  Coarse_Fine  Aggregate  Aggregate_Cement  Slag_Cement  \\\n",
       "0      1.046358     1.349049     1753.8         10.558700     0.453943   \n",
       "3      0.749801     1.357265     1786.1          7.104614     0.000000   \n",
       "4      1.222222     1.440056     1730.0         12.013889     0.104167   \n",
       "5      0.746468     1.053391     1623.0          6.197022     0.423826   \n",
       "6      1.160000     1.581361     1745.0         11.633333     0.000000   \n",
       "\n",
       "   Ash_Cement  Plastic_Cement  Age_Water        lgb        cat        xgb  \\\n",
       "0    0.986153        0.027694   0.322209  40.142840  46.451931  46.624214   \n",
       "3    0.470565        0.025457   0.530504  47.440228  47.639309  47.283054   \n",
       "4    1.354167        0.041667   0.159091  15.164180  29.534035  20.435207   \n",
       "5    0.334097        0.022528   0.143223  39.864393  44.440668  32.272144   \n",
       "6    0.000000        0.016667   0.160920  14.074184  30.816081  26.309036   \n",
       "\n",
       "       final  \n",
       "0  45.834236  \n",
       "3  46.933079  \n",
       "4  19.360554  \n",
       "5  33.346909  \n",
       "6  23.780430  "
      ]
     },
     "execution_count": 60,
     "metadata": {},
     "output_type": "execute_result"
    }
   ],
   "source": [
    "data2U.head()"
   ]
  },
  {
   "cell_type": "code",
   "execution_count": null,
   "id": "05d969b0",
   "metadata": {
    "papermill": {
     "duration": 0.022038,
     "end_time": "2023-03-11T18:34:52.078964",
     "exception": false,
     "start_time": "2023-03-11T18:34:52.056926",
     "status": "completed"
    },
    "tags": []
   },
   "outputs": [],
   "source": []
  },
  {
   "cell_type": "code",
   "execution_count": 61,
   "id": "2aca832c",
   "metadata": {
    "execution": {
     "iopub.execute_input": "2023-03-11T18:34:52.126140Z",
     "iopub.status.busy": "2023-03-11T18:34:52.125717Z",
     "iopub.status.idle": "2023-03-11T18:34:52.156926Z",
     "shell.execute_reply": "2023-03-11T18:34:52.155566Z"
    },
    "papermill": {
     "duration": 0.059028,
     "end_time": "2023-03-11T18:34:52.160341",
     "exception": false,
     "start_time": "2023-03-11T18:34:52.101313",
     "status": "completed"
    },
    "tags": []
   },
   "outputs": [],
   "source": [
    "sub = pd.read_csv('/kaggle/input/playground-series-s3e9/sample_submission.csv')\n",
    "sub.loc[data1U['final'].index, \"Strength\"] = data1U.final\n",
    "sub.loc[data2U['final'].index, \"Strength\"] = data2U.final\n",
    "sub.to_csv('submission.csv' , index =False)"
   ]
  },
  {
   "cell_type": "code",
   "execution_count": 62,
   "id": "5b43f838",
   "metadata": {
    "execution": {
     "iopub.execute_input": "2023-03-11T18:34:52.209324Z",
     "iopub.status.busy": "2023-03-11T18:34:52.208868Z",
     "iopub.status.idle": "2023-03-11T18:34:52.220347Z",
     "shell.execute_reply": "2023-03-11T18:34:52.219150Z"
    },
    "papermill": {
     "duration": 0.038967,
     "end_time": "2023-03-11T18:34:52.222827",
     "exception": false,
     "start_time": "2023-03-11T18:34:52.183860",
     "status": "completed"
    },
    "tags": []
   },
   "outputs": [
    {
     "data": {
      "text/html": [
       "<div>\n",
       "<style scoped>\n",
       "    .dataframe tbody tr th:only-of-type {\n",
       "        vertical-align: middle;\n",
       "    }\n",
       "\n",
       "    .dataframe tbody tr th {\n",
       "        vertical-align: top;\n",
       "    }\n",
       "\n",
       "    .dataframe thead th {\n",
       "        text-align: right;\n",
       "    }\n",
       "</style>\n",
       "<table border=\"1\" class=\"dataframe\">\n",
       "  <thead>\n",
       "    <tr style=\"text-align: right;\">\n",
       "      <th></th>\n",
       "      <th>id</th>\n",
       "      <th>Strength</th>\n",
       "    </tr>\n",
       "  </thead>\n",
       "  <tbody>\n",
       "    <tr>\n",
       "      <th>0</th>\n",
       "      <td>5407</td>\n",
       "      <td>45.834236</td>\n",
       "    </tr>\n",
       "    <tr>\n",
       "      <th>1</th>\n",
       "      <td>5408</td>\n",
       "      <td>18.827299</td>\n",
       "    </tr>\n",
       "    <tr>\n",
       "      <th>2</th>\n",
       "      <td>5409</td>\n",
       "      <td>35.744408</td>\n",
       "    </tr>\n",
       "    <tr>\n",
       "      <th>3</th>\n",
       "      <td>5410</td>\n",
       "      <td>46.933079</td>\n",
       "    </tr>\n",
       "    <tr>\n",
       "      <th>4</th>\n",
       "      <td>5411</td>\n",
       "      <td>19.360554</td>\n",
       "    </tr>\n",
       "  </tbody>\n",
       "</table>\n",
       "</div>"
      ],
      "text/plain": [
       "     id   Strength\n",
       "0  5407  45.834236\n",
       "1  5408  18.827299\n",
       "2  5409  35.744408\n",
       "3  5410  46.933079\n",
       "4  5411  19.360554"
      ]
     },
     "execution_count": 62,
     "metadata": {},
     "output_type": "execute_result"
    }
   ],
   "source": [
    "sub.head()"
   ]
  },
  {
   "cell_type": "code",
   "execution_count": null,
   "id": "0067d5f0",
   "metadata": {
    "papermill": {
     "duration": 0.022043,
     "end_time": "2023-03-11T18:34:52.267164",
     "exception": false,
     "start_time": "2023-03-11T18:34:52.245121",
     "status": "completed"
    },
    "tags": []
   },
   "outputs": [],
   "source": []
  }
 ],
 "metadata": {
  "kernelspec": {
   "display_name": "Python 3",
   "language": "python",
   "name": "python3"
  },
  "language_info": {
   "codemirror_mode": {
    "name": "ipython",
    "version": 3
   },
   "file_extension": ".py",
   "mimetype": "text/x-python",
   "name": "python",
   "nbconvert_exporter": "python",
   "pygments_lexer": "ipython3",
   "version": "3.7.12"
  },
  "papermill": {
   "default_parameters": {},
   "duration": 77.647222,
   "end_time": "2023-03-11T18:34:53.315973",
   "environment_variables": {},
   "exception": null,
   "input_path": "__notebook__.ipynb",
   "output_path": "__notebook__.ipynb",
   "parameters": {},
   "start_time": "2023-03-11T18:33:35.668751",
   "version": "2.4.0"
  }
 },
 "nbformat": 4,
 "nbformat_minor": 5
}
